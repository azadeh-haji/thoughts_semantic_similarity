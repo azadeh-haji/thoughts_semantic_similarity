{
 "cells": [
  {
   "cell_type": "markdown",
   "id": "unusual-armor",
   "metadata": {},
   "source": [
    "## Predict behavior by taste and health and similarity of reasons to those"
   ]
  },
  {
   "cell_type": "code",
   "execution_count": 2,
   "id": "superior-sierra",
   "metadata": {},
   "outputs": [
    {
     "data": {
      "text/plain": [
       "'3.9.1'"
      ]
     },
     "execution_count": 2,
     "metadata": {},
     "output_type": "execute_result"
    }
   ],
   "source": [
    "# from platform import python_version\n",
    "# python_version()"
   ]
  },
  {
   "cell_type": "code",
   "execution_count": 2,
   "id": "weekly-liquid",
   "metadata": {},
   "outputs": [],
   "source": [
    "import pandas as pd\n",
    "import numpy as np\n",
    "import spacy\n",
    "nlp = spacy.load('en_core_web_md')"
   ]
  },
  {
   "cell_type": "code",
   "execution_count": 24,
   "id": "representative-jungle",
   "metadata": {},
   "outputs": [
    {
     "name": "stdout",
     "output_type": "stream",
     "text": [
      "                                           StartDate  \\\n",
      "0                                         Start Date   \n",
      "1  {\"ImportId\":\"startDate\",\"timeZone\":\"America/De...   \n",
      "2                                   2019-11-28 12:48   \n",
      "3                                   2019-11-28 12:39   \n",
      "4                                   2019-11-28 12:38   \n",
      "\n",
      "                                             EndDate                 Status  \\\n",
      "0                                           End Date          Response Type   \n",
      "1  {\"ImportId\":\"endDate\",\"timeZone\":\"America/Denv...  {\"ImportId\":\"status\"}   \n",
      "2                                   2019-11-28 13:10             IP Address   \n",
      "3                                   2019-11-28 13:10             IP Address   \n",
      "4                                   2019-11-28 13:11             IP Address   \n",
      "\n",
      "                  IPAddress                 Progress    Duration (in seconds)  \\\n",
      "0                IP Address                 Progress    Duration (in seconds)   \n",
      "1  {\"ImportId\":\"ipAddress\"}  {\"ImportId\":\"progress\"}  {\"ImportId\":\"duration\"}   \n",
      "2             98.247.142.31                      100                     1326   \n",
      "3            99.111.130.223                      100                     1864   \n",
      "4            71.219.142.102                      100                     1972   \n",
      "\n",
      "                  Finished                                       RecordedDate  \\\n",
      "0                 Finished                                      Recorded Date   \n",
      "1  {\"ImportId\":\"finished\"}  {\"ImportId\":\"recordedDate\",\"timeZone\":\"America...   \n",
      "2                     TRUE                                   2019-11-28 13:10   \n",
      "3                     TRUE                                   2019-11-28 13:10   \n",
      "4                     TRUE                                   2019-11-28 13:11   \n",
      "\n",
      "                 ResponseId                 RecipientLastName  ...  \\\n",
      "0               Response ID               Recipient Last Name  ...   \n",
      "1  {\"ImportId\":\"_recordId\"}  {\"ImportId\":\"recipientLastName\"}  ...   \n",
      "2         R_2Yf9NqzNdvMSCnH                               NaN  ...   \n",
      "3         R_1d6mWtvT33pT6K5                               NaN  ...   \n",
      "4         R_2dEfOsx1KRXrUs0                               NaN  ...   \n",
      "\n",
      "                             20_healthRT_Click Count  \\\n",
      "0  Timing - https://utorontopsych.az1.qualtrics.c...   \n",
      "1               {\"ImportId\":\"20_QID171_CLICK_COUNT\"}   \n",
      "2                                                  1   \n",
      "3                                                  1   \n",
      "4                                                  1   \n",
      "\n",
      "                                            debrief1  \\\n",
      "0   What do you think the purpose of this study was?   \n",
      "1                         {\"ImportId\":\"QID113_TEXT\"}   \n",
      "2  Gauge influence of healthy eating reminders on...   \n",
      "3  To see how people feel about certain foods bef...   \n",
      "4                       DETERMINE MY CHOICES IN FOOD   \n",
      "\n",
      "                                            debrief2  \\\n",
      "0  Did you notice anything odd about the study? W...   \n",
      "1                         {\"ImportId\":\"QID114_TEXT\"}   \n",
      "2                                              nope!   \n",
      "3                      I did not notice anything odd   \n",
      "4                                               NONE   \n",
      "\n",
      "                                            consent2  \\\n",
      "0  Participant Consent: My signature indicates I ...   \n",
      "1                               {\"ImportId\":\"QID95\"}   \n",
      "2                                            I agree   \n",
      "3                                            I agree   \n",
      "4                                            I agree   \n",
      "\n",
      "                                 SC0                                SC1  \\\n",
      "0                       English_Test                       Reasons_Test   \n",
      "1  {\"ImportId\":\"SC_3kq6pM8K2KXJ3UN\"}  {\"ImportId\":\"SC_8AkbAZDb1qk88WF\"}   \n",
      "2                                  5                                  3   \n",
      "3                                  5                                  2   \n",
      "4                                  3                                  2   \n",
      "\n",
      "                                 SC2                                SC3  \\\n",
      "0                           Reg_Test                         Native_Eng   \n",
      "1  {\"ImportId\":\"SC_6fHiZnwJgVKQ6O1\"}  {\"ImportId\":\"SC_cYe6UJrN9QdqQQJ\"}   \n",
      "2                                  2                                  1   \n",
      "3                                  2                                  1   \n",
      "4                                  1                                  1   \n",
      "\n",
      "                  id                 Condition  \n",
      "0                 id                 Condition  \n",
      "1  {\"ImportId\":\"id\"}  {\"ImportId\":\"Condition\"}  \n",
      "2           49672855                    Health  \n",
      "3           38501484                    Health  \n",
      "4           24539356                   Natural  \n",
      "\n",
      "[5 rows x 1197 columns]\n",
      "  Progress  gender       location        ethnicity age healthyEating_1  \\\n",
      "2      100  Female  United States  White/Caucasian  47              38   \n",
      "3      100    Male  United States  White/Caucasian  21              83   \n",
      "4      100  Female  United States  White/Caucasian  48              81   \n",
      "5      100    Male  United States  White/Caucasian  28              99   \n",
      "6      100    Male         Canada  White/Caucasian  27              64   \n",
      "\n",
      "  dietaryRestriction foodAllergies               Native English Speak  \\\n",
      "2                NaN           NaN      I am a native English speaker   \n",
      "3               None          None      I am a native English speaker   \n",
      "4               NONE          NONE      I am a native English speaker   \n",
      "5               none          none      I am a native English speaker   \n",
      "6              None.         None.  I am not a native English speaker   \n",
      "\n",
      "     Eng. Q1  ... 20_Reason3 20_Reason4               Food20_Valence_1  \\\n",
      "2  Incorrect  ...        NaN        NaN  Neither negative nor positive   \n",
      "3  Incorrect  ...        NaN        NaN             Extremely negative   \n",
      "4  Incorrect  ...        NaN        NaN            Moderately positive   \n",
      "5    Correct  ...        NaN        NaN            Moderately positive   \n",
      "6  Incorrect  ...        NaN        NaN              Slightly negative   \n",
      "\n",
      "      Food20_Valence_2 Food20_Valence_3 Food20_Valence_4        20_taste  \\\n",
      "2                  NaN              NaN              NaN  Slightly tasty   \n",
      "3                  NaN              NaN              NaN  Slightly tasty   \n",
      "4                  NaN              NaN              NaN      Very tasty   \n",
      "5                  NaN              NaN              NaN  Slightly tasty   \n",
      "6  Moderately positive              NaN              NaN  Slightly tasty   \n",
      "\n",
      "                        20_health  \\\n",
      "2              Slightly unhealthy   \n",
      "3                    Very healthy   \n",
      "4                  Very unhealthy   \n",
      "5  Neither healthy nor unhealthy.   \n",
      "6              Slightly unhealthy   \n",
      "\n",
      "                                            debrief1  \\\n",
      "2  Gauge influence of healthy eating reminders on...   \n",
      "3  To see how people feel about certain foods bef...   \n",
      "4                       DETERMINE MY CHOICES IN FOOD   \n",
      "5              know about the food taste and health.   \n",
      "6  Understand how people chose what they want to ...   \n",
      "\n",
      "                                            debrief2  \n",
      "2                                              nope!  \n",
      "3                      I did not notice anything odd  \n",
      "4                                               NONE  \n",
      "5                                               none  \n",
      "6  I did not notice anything odd (other than the ...  \n",
      "\n",
      "[5 rows x 279 columns]\n"
     ]
    }
   ],
   "source": [
    "# read full data in\n",
    "\n",
    "df = pd.read_csv('Though listing and Regulation.csv')\n",
    "\n",
    "print(df.head())\n",
    "\n",
    "#### select data for processing\n",
    "\n",
    "\n",
    "# make a list of columns to process\n",
    "columnsToUse = ['Progress','gender','location','ethnicity','age','healthyEating_1','dietaryRestriction',\n",
    "                'foodAllergies','Native English Speak','Eng. Q1','Eng. Q2','Eng. Q3','Eng. Q4','Eng. Q5',\n",
    "                'Eng. Q6','hunger_1','Condition']\n",
    "#fill in 20 item colums\n",
    "for n in range(1,21):\n",
    "    columnsToUse.append(str(n)+'_choicePre')\n",
    "    columnsToUse.append(str(n)+'_choicePost')\n",
    "    columnsToUse.append(str(n)+'_ChoiceTask_Resp')\n",
    "    columnsToUse.append(str(n)+'_Reason1')\n",
    "    columnsToUse.append(str(n)+'_Reason2')\n",
    "    columnsToUse.append(str(n)+'_Reason3')\n",
    "    columnsToUse.append(str(n)+'_Reason4')\n",
    "    columnsToUse.append('Food'+str(n)+'_Valence_1')\n",
    "    columnsToUse.append('Food'+str(n)+'_Valence_2')\n",
    "    columnsToUse.append('Food'+str(n)+'_Valence_3')\n",
    "    columnsToUse.append('Food'+str(n)+'_Valence_4')\n",
    "\n",
    "    columnsToUse.append(str(n)+'_taste')\n",
    "    columnsToUse.append(str(n)+'_health')\n",
    "    \n",
    "columnsToUse.append('debrief1')\n",
    "columnsToUse.append('debrief2')\n",
    "# columnsToUse\n",
    "\n",
    "\n",
    "# create new dataframe with wanted columns and rows\n",
    "dfInUse = df[columnsToUse].copy()\n",
    "dfInUse.drop(axis=0, index=[0,1],inplace=True)\n",
    "print(dfInUse.head())"
   ]
  },
  {
   "cell_type": "code",
   "execution_count": 25,
   "id": "extensive-employee",
   "metadata": {},
   "outputs": [
    {
     "name": "stdout",
     "output_type": "stream",
     "text": [
      "Progress\n",
      "gender\n",
      "location\n",
      "ethnicity\n",
      "age\n",
      "healthyEating_1\n",
      "dietaryRestriction\n",
      "foodAllergies\n",
      "Native English Speak\n",
      "Eng. Q1\n",
      "Eng. Q2\n",
      "Eng. Q3\n",
      "Eng. Q4\n",
      "Eng. Q5\n",
      "Eng. Q6\n",
      "hunger_1\n",
      "Condition\n",
      "1_choicePre\n",
      "1_choicePost\n",
      "1_ChoiceTask_Resp\n",
      "1_Reason1\n",
      "1_Reason2\n",
      "1_Reason3\n",
      "1_Reason4\n",
      "Food1_Valence_1\n",
      "Food1_Valence_2\n",
      "Food1_Valence_3\n",
      "Food1_Valence_4\n",
      "1_taste\n",
      "1_health\n",
      "2_choicePre\n",
      "2_choicePost\n",
      "2_ChoiceTask_Resp\n",
      "2_Reason1\n",
      "2_Reason2\n",
      "2_Reason3\n",
      "2_Reason4\n",
      "Food2_Valence_1\n",
      "Food2_Valence_2\n",
      "Food2_Valence_3\n",
      "Food2_Valence_4\n",
      "2_taste\n",
      "2_health\n",
      "3_choicePre\n",
      "3_choicePost\n",
      "3_ChoiceTask_Resp\n",
      "3_Reason1\n",
      "3_Reason2\n",
      "3_Reason3\n",
      "3_Reason4\n",
      "Food3_Valence_1\n",
      "Food3_Valence_2\n",
      "Food3_Valence_3\n",
      "Food3_Valence_4\n",
      "3_taste\n",
      "3_health\n",
      "4_choicePre\n",
      "4_choicePost\n",
      "4_ChoiceTask_Resp\n",
      "4_Reason1\n",
      "4_Reason2\n",
      "4_Reason3\n",
      "4_Reason4\n",
      "Food4_Valence_1\n",
      "Food4_Valence_2\n",
      "Food4_Valence_3\n",
      "Food4_Valence_4\n",
      "4_taste\n",
      "4_health\n",
      "5_choicePre\n",
      "5_choicePost\n",
      "5_ChoiceTask_Resp\n",
      "5_Reason1\n",
      "5_Reason2\n",
      "5_Reason3\n",
      "5_Reason4\n",
      "Food5_Valence_1\n",
      "Food5_Valence_2\n",
      "Food5_Valence_3\n",
      "Food5_Valence_4\n",
      "5_taste\n",
      "5_health\n",
      "6_choicePre\n",
      "6_choicePost\n",
      "6_ChoiceTask_Resp\n",
      "6_Reason1\n",
      "6_Reason2\n",
      "6_Reason3\n",
      "6_Reason4\n",
      "Food6_Valence_1\n",
      "Food6_Valence_2\n",
      "Food6_Valence_3\n",
      "Food6_Valence_4\n",
      "6_taste\n",
      "6_health\n",
      "7_choicePre\n",
      "7_choicePost\n",
      "7_ChoiceTask_Resp\n",
      "7_Reason1\n",
      "7_Reason2\n",
      "7_Reason3\n",
      "7_Reason4\n",
      "Food7_Valence_1\n",
      "Food7_Valence_2\n",
      "Food7_Valence_3\n",
      "Food7_Valence_4\n",
      "7_taste\n",
      "7_health\n",
      "8_choicePre\n",
      "8_choicePost\n",
      "8_ChoiceTask_Resp\n",
      "8_Reason1\n",
      "8_Reason2\n",
      "8_Reason3\n",
      "8_Reason4\n",
      "Food8_Valence_1\n",
      "Food8_Valence_2\n",
      "Food8_Valence_3\n",
      "Food8_Valence_4\n",
      "8_taste\n",
      "8_health\n",
      "9_choicePre\n",
      "9_choicePost\n",
      "9_ChoiceTask_Resp\n",
      "9_Reason1\n",
      "9_Reason2\n",
      "9_Reason3\n",
      "9_Reason4\n",
      "Food9_Valence_1\n",
      "Food9_Valence_2\n",
      "Food9_Valence_3\n",
      "Food9_Valence_4\n",
      "9_taste\n",
      "9_health\n",
      "10_choicePre\n",
      "10_choicePost\n",
      "10_ChoiceTask_Resp\n",
      "10_Reason1\n",
      "10_Reason2\n",
      "10_Reason3\n",
      "10_Reason4\n",
      "Food10_Valence_1\n",
      "Food10_Valence_2\n",
      "Food10_Valence_3\n",
      "Food10_Valence_4\n",
      "10_taste\n",
      "10_health\n",
      "11_choicePre\n",
      "11_choicePost\n",
      "11_ChoiceTask_Resp\n",
      "11_Reason1\n",
      "11_Reason2\n",
      "11_Reason3\n",
      "11_Reason4\n",
      "Food11_Valence_1\n",
      "Food11_Valence_2\n",
      "Food11_Valence_3\n",
      "Food11_Valence_4\n",
      "11_taste\n",
      "11_health\n",
      "12_choicePre\n",
      "12_choicePost\n",
      "12_ChoiceTask_Resp\n",
      "12_Reason1\n",
      "12_Reason2\n",
      "12_Reason3\n",
      "12_Reason4\n",
      "Food12_Valence_1\n",
      "Food12_Valence_2\n",
      "Food12_Valence_3\n",
      "Food12_Valence_4\n",
      "12_taste\n",
      "12_health\n",
      "13_choicePre\n",
      "13_choicePost\n",
      "13_ChoiceTask_Resp\n",
      "13_Reason1\n",
      "13_Reason2\n",
      "13_Reason3\n",
      "13_Reason4\n",
      "Food13_Valence_1\n",
      "Food13_Valence_2\n",
      "Food13_Valence_3\n",
      "Food13_Valence_4\n",
      "13_taste\n",
      "13_health\n",
      "14_choicePre\n",
      "14_choicePost\n",
      "14_ChoiceTask_Resp\n",
      "14_Reason1\n",
      "14_Reason2\n",
      "14_Reason3\n",
      "14_Reason4\n",
      "Food14_Valence_1\n",
      "Food14_Valence_2\n",
      "Food14_Valence_3\n",
      "Food14_Valence_4\n",
      "14_taste\n",
      "14_health\n",
      "15_choicePre\n",
      "15_choicePost\n",
      "15_ChoiceTask_Resp\n",
      "15_Reason1\n",
      "15_Reason2\n",
      "15_Reason3\n",
      "15_Reason4\n",
      "Food15_Valence_1\n",
      "Food15_Valence_2\n",
      "Food15_Valence_3\n",
      "Food15_Valence_4\n",
      "15_taste\n",
      "15_health\n",
      "16_choicePre\n",
      "16_choicePost\n",
      "16_ChoiceTask_Resp\n",
      "16_Reason1\n",
      "16_Reason2\n",
      "16_Reason3\n",
      "16_Reason4\n",
      "Food16_Valence_1\n",
      "Food16_Valence_2\n",
      "Food16_Valence_3\n",
      "Food16_Valence_4\n",
      "16_taste\n",
      "16_health\n",
      "17_choicePre\n",
      "17_choicePost\n",
      "17_ChoiceTask_Resp\n",
      "17_Reason1\n",
      "17_Reason2\n",
      "17_Reason3\n",
      "17_Reason4\n",
      "Food17_Valence_1\n",
      "Food17_Valence_2\n",
      "Food17_Valence_3\n",
      "Food17_Valence_4\n",
      "17_taste\n",
      "17_health\n",
      "18_choicePre\n",
      "18_choicePost\n",
      "18_ChoiceTask_Resp\n",
      "18_Reason1\n",
      "18_Reason2\n",
      "18_Reason3\n",
      "18_Reason4\n",
      "Food18_Valence_1\n",
      "Food18_Valence_2\n",
      "Food18_Valence_3\n",
      "Food18_Valence_4\n",
      "18_taste\n",
      "18_health\n",
      "19_choicePre\n",
      "19_choicePost\n",
      "19_ChoiceTask_Resp\n",
      "19_Reason1\n",
      "19_Reason2\n",
      "19_Reason3\n",
      "19_Reason4\n",
      "Food19_Valence_1\n",
      "Food19_Valence_2\n",
      "Food19_Valence_3\n",
      "Food19_Valence_4\n",
      "19_taste\n",
      "19_health\n",
      "20_choicePre\n",
      "20_choicePost\n",
      "20_ChoiceTask_Resp\n",
      "20_Reason1\n",
      "20_Reason2\n",
      "20_Reason3\n",
      "20_Reason4\n",
      "Food20_Valence_1\n",
      "Food20_Valence_2\n",
      "Food20_Valence_3\n",
      "Food20_Valence_4\n",
      "20_taste\n",
      "20_health\n",
      "debrief1\n",
      "debrief2\n"
     ]
    }
   ],
   "source": [
    "for c in dfInUse.columns:\n",
    "    print(c)"
   ]
  },
  {
   "cell_type": "code",
   "execution_count": 4,
   "id": "concrete-deputy",
   "metadata": {},
   "outputs": [],
   "source": [
    "# initialize new columns to record each reason's similarity to taste and health \n",
    "import os\n",
    "file = os.getcwd()+'\\\\ThoughtListingDataInUse.csv'\n",
    "if  not os.path.isfile(file):\n",
    "    for f in range(1,21): # foods\n",
    "        for r in range(1,5): # reasons\n",
    "            dfInUse[str(f)+'_Reason'+str(r)+'_simil_taste'] = np.full((dfInUse.shape[0]),np.nan)\n",
    "            dfInUse[str(f)+'_Reason'+str(r)+'_simil_health'] = np.full((dfInUse.shape[0]),np.nan)\n"
   ]
  },
  {
   "cell_type": "code",
   "execution_count": 5,
   "id": "brief-jumping",
   "metadata": {},
   "outputs": [],
   "source": [
    "# calculate similarity to taste and health for each reason\n",
    "if not os.path.isfile(file):\n",
    "    for s in range(dfInUse.shape[0]):\n",
    "        for n in range(1,21):\n",
    "            for r in range(1,5):\n",
    "                if isinstance(dfInUse[str(n)+'_Reason'+str(r)].iloc[s],str):\n",
    "                    temp = dfInUse[str(n)+'_Reason'+str(r)].iloc[s].split()\n",
    "                    [temp.remove(word) for word in temp if nlp.vocab[word].is_stop];\n",
    "                    dfInUse[str(n)+'_Reason'+str(r)+'_simil_taste'].iloc[s] = np.asarray([nlp('taste').similarity(nlp(word)) for word in temp]).mean()\n",
    "                    dfInUse[str(n)+'_Reason'+str(r)+'_simil_health'].iloc[s] = np.asarray([nlp('health').similarity(nlp(word)) for word in temp]).mean()\n",
    "\n",
    "    dfInUse.to_csv(file)\n",
    "else:\n",
    "    dfInUse = pd.read_csv(file)       "
   ]
  },
  {
   "cell_type": "code",
   "execution_count": 29,
   "id": "institutional-imperial",
   "metadata": {},
   "outputs": [
    {
     "name": "stdout",
     "output_type": "stream",
     "text": [
      "Unnamed: 0\n",
      "Progress\n",
      "gender\n",
      "location\n",
      "ethnicity\n",
      "age\n",
      "healthyEating_1\n",
      "dietaryRestriction\n",
      "foodAllergies\n",
      "Native English Speak\n",
      "Eng. Q1\n",
      "Eng. Q2\n",
      "Eng. Q3\n",
      "Eng. Q4\n",
      "Eng. Q5\n",
      "Eng. Q6\n",
      "hunger_1\n",
      "Condition\n",
      "1_choicePre\n",
      "1_choicePost\n",
      "1_ChoiceTask_Resp\n",
      "1_Reason1\n",
      "1_Reason2\n",
      "1_Reason3\n",
      "1_Reason4\n",
      "Food1_Valence_1\n",
      "Food1_Valence_2\n",
      "Food1_Valence_3\n",
      "Food1_Valence_4\n",
      "1_taste\n",
      "1_health\n",
      "2_choicePre\n",
      "2_choicePost\n",
      "2_ChoiceTask_Resp\n",
      "2_Reason1\n",
      "2_Reason2\n",
      "2_Reason3\n",
      "2_Reason4\n",
      "Food2_Valence_1\n",
      "Food2_Valence_2\n",
      "Food2_Valence_3\n",
      "Food2_Valence_4\n",
      "2_taste\n",
      "2_health\n",
      "3_choicePre\n",
      "3_choicePost\n",
      "3_ChoiceTask_Resp\n",
      "3_Reason1\n",
      "3_Reason2\n",
      "3_Reason3\n",
      "3_Reason4\n",
      "Food3_Valence_1\n",
      "Food3_Valence_2\n",
      "Food3_Valence_3\n",
      "Food3_Valence_4\n",
      "3_taste\n",
      "3_health\n",
      "4_choicePre\n",
      "4_choicePost\n",
      "4_ChoiceTask_Resp\n",
      "4_Reason1\n",
      "4_Reason2\n",
      "4_Reason3\n",
      "4_Reason4\n",
      "Food4_Valence_1\n",
      "Food4_Valence_2\n",
      "Food4_Valence_3\n",
      "Food4_Valence_4\n",
      "4_taste\n",
      "4_health\n",
      "5_choicePre\n",
      "5_choicePost\n",
      "5_ChoiceTask_Resp\n",
      "5_Reason1\n",
      "5_Reason2\n",
      "5_Reason3\n",
      "5_Reason4\n",
      "Food5_Valence_1\n",
      "Food5_Valence_2\n",
      "Food5_Valence_3\n",
      "Food5_Valence_4\n",
      "5_taste\n",
      "5_health\n",
      "6_choicePre\n",
      "6_choicePost\n",
      "6_ChoiceTask_Resp\n",
      "6_Reason1\n",
      "6_Reason2\n",
      "6_Reason3\n",
      "6_Reason4\n",
      "Food6_Valence_1\n",
      "Food6_Valence_2\n",
      "Food6_Valence_3\n",
      "Food6_Valence_4\n",
      "6_taste\n",
      "6_health\n",
      "7_choicePre\n",
      "7_choicePost\n",
      "7_ChoiceTask_Resp\n",
      "7_Reason1\n",
      "7_Reason2\n",
      "7_Reason3\n",
      "7_Reason4\n",
      "Food7_Valence_1\n",
      "Food7_Valence_2\n",
      "Food7_Valence_3\n",
      "Food7_Valence_4\n",
      "7_taste\n",
      "7_health\n",
      "8_choicePre\n",
      "8_choicePost\n",
      "8_ChoiceTask_Resp\n",
      "8_Reason1\n",
      "8_Reason2\n",
      "8_Reason3\n",
      "8_Reason4\n",
      "Food8_Valence_1\n",
      "Food8_Valence_2\n",
      "Food8_Valence_3\n",
      "Food8_Valence_4\n",
      "8_taste\n",
      "8_health\n",
      "9_choicePre\n",
      "9_choicePost\n",
      "9_ChoiceTask_Resp\n",
      "9_Reason1\n",
      "9_Reason2\n",
      "9_Reason3\n",
      "9_Reason4\n",
      "Food9_Valence_1\n",
      "Food9_Valence_2\n",
      "Food9_Valence_3\n",
      "Food9_Valence_4\n",
      "9_taste\n",
      "9_health\n",
      "10_choicePre\n",
      "10_choicePost\n",
      "10_ChoiceTask_Resp\n",
      "10_Reason1\n",
      "10_Reason2\n",
      "10_Reason3\n",
      "10_Reason4\n",
      "Food10_Valence_1\n",
      "Food10_Valence_2\n",
      "Food10_Valence_3\n",
      "Food10_Valence_4\n",
      "10_taste\n",
      "10_health\n",
      "11_choicePre\n",
      "11_choicePost\n",
      "11_ChoiceTask_Resp\n",
      "11_Reason1\n",
      "11_Reason2\n",
      "11_Reason3\n",
      "11_Reason4\n",
      "Food11_Valence_1\n",
      "Food11_Valence_2\n",
      "Food11_Valence_3\n",
      "Food11_Valence_4\n",
      "11_taste\n",
      "11_health\n",
      "12_choicePre\n",
      "12_choicePost\n",
      "12_ChoiceTask_Resp\n",
      "12_Reason1\n",
      "12_Reason2\n",
      "12_Reason3\n",
      "12_Reason4\n",
      "Food12_Valence_1\n",
      "Food12_Valence_2\n",
      "Food12_Valence_3\n",
      "Food12_Valence_4\n",
      "12_taste\n",
      "12_health\n",
      "13_choicePre\n",
      "13_choicePost\n",
      "13_ChoiceTask_Resp\n",
      "13_Reason1\n",
      "13_Reason2\n",
      "13_Reason3\n",
      "13_Reason4\n",
      "Food13_Valence_1\n",
      "Food13_Valence_2\n",
      "Food13_Valence_3\n",
      "Food13_Valence_4\n",
      "13_taste\n",
      "13_health\n",
      "14_choicePre\n",
      "14_choicePost\n",
      "14_ChoiceTask_Resp\n",
      "14_Reason1\n",
      "14_Reason2\n",
      "14_Reason3\n",
      "14_Reason4\n",
      "Food14_Valence_1\n",
      "Food14_Valence_2\n",
      "Food14_Valence_3\n",
      "Food14_Valence_4\n",
      "14_taste\n",
      "14_health\n",
      "15_choicePre\n",
      "15_choicePost\n",
      "15_ChoiceTask_Resp\n",
      "15_Reason1\n",
      "15_Reason2\n",
      "15_Reason3\n",
      "15_Reason4\n",
      "Food15_Valence_1\n",
      "Food15_Valence_2\n",
      "Food15_Valence_3\n",
      "Food15_Valence_4\n",
      "15_taste\n",
      "15_health\n",
      "16_choicePre\n",
      "16_choicePost\n",
      "16_ChoiceTask_Resp\n",
      "16_Reason1\n",
      "16_Reason2\n",
      "16_Reason3\n",
      "16_Reason4\n",
      "Food16_Valence_1\n",
      "Food16_Valence_2\n",
      "Food16_Valence_3\n",
      "Food16_Valence_4\n",
      "16_taste\n",
      "16_health\n",
      "17_choicePre\n",
      "17_choicePost\n",
      "17_ChoiceTask_Resp\n",
      "17_Reason1\n",
      "17_Reason2\n",
      "17_Reason3\n",
      "17_Reason4\n",
      "Food17_Valence_1\n",
      "Food17_Valence_2\n",
      "Food17_Valence_3\n",
      "Food17_Valence_4\n",
      "17_taste\n",
      "17_health\n",
      "18_choicePre\n",
      "18_choicePost\n",
      "18_ChoiceTask_Resp\n",
      "18_Reason1\n",
      "18_Reason2\n",
      "18_Reason3\n",
      "18_Reason4\n",
      "Food18_Valence_1\n",
      "Food18_Valence_2\n",
      "Food18_Valence_3\n",
      "Food18_Valence_4\n",
      "18_taste\n",
      "18_health\n",
      "19_choicePre\n",
      "19_choicePost\n",
      "19_ChoiceTask_Resp\n",
      "19_Reason1\n",
      "19_Reason2\n",
      "19_Reason3\n",
      "19_Reason4\n",
      "Food19_Valence_1\n",
      "Food19_Valence_2\n",
      "Food19_Valence_3\n",
      "Food19_Valence_4\n",
      "19_taste\n",
      "19_health\n",
      "20_choicePre\n",
      "20_choicePost\n",
      "20_ChoiceTask_Resp\n",
      "20_Reason1\n",
      "20_Reason2\n",
      "20_Reason3\n",
      "20_Reason4\n",
      "Food20_Valence_1\n",
      "Food20_Valence_2\n",
      "Food20_Valence_3\n",
      "Food20_Valence_4\n",
      "20_taste\n",
      "20_health\n",
      "debrief1\n",
      "debrief2\n",
      "1_Reason1_simil_taste\n",
      "1_Reason1_simil_health\n",
      "1_Reason2_simil_taste\n",
      "1_Reason2_simil_health\n",
      "1_Reason3_simil_taste\n",
      "1_Reason3_simil_health\n",
      "1_Reason4_simil_taste\n",
      "1_Reason4_simil_health\n",
      "2_Reason1_simil_taste\n",
      "2_Reason1_simil_health\n",
      "2_Reason2_simil_taste\n",
      "2_Reason2_simil_health\n",
      "2_Reason3_simil_taste\n",
      "2_Reason3_simil_health\n",
      "2_Reason4_simil_taste\n",
      "2_Reason4_simil_health\n",
      "3_Reason1_simil_taste\n",
      "3_Reason1_simil_health\n",
      "3_Reason2_simil_taste\n",
      "3_Reason2_simil_health\n",
      "3_Reason3_simil_taste\n",
      "3_Reason3_simil_health\n",
      "3_Reason4_simil_taste\n",
      "3_Reason4_simil_health\n",
      "4_Reason1_simil_taste\n",
      "4_Reason1_simil_health\n",
      "4_Reason2_simil_taste\n",
      "4_Reason2_simil_health\n",
      "4_Reason3_simil_taste\n",
      "4_Reason3_simil_health\n",
      "4_Reason4_simil_taste\n",
      "4_Reason4_simil_health\n",
      "5_Reason1_simil_taste\n",
      "5_Reason1_simil_health\n",
      "5_Reason2_simil_taste\n",
      "5_Reason2_simil_health\n",
      "5_Reason3_simil_taste\n",
      "5_Reason3_simil_health\n",
      "5_Reason4_simil_taste\n",
      "5_Reason4_simil_health\n",
      "6_Reason1_simil_taste\n",
      "6_Reason1_simil_health\n",
      "6_Reason2_simil_taste\n",
      "6_Reason2_simil_health\n",
      "6_Reason3_simil_taste\n",
      "6_Reason3_simil_health\n",
      "6_Reason4_simil_taste\n",
      "6_Reason4_simil_health\n",
      "7_Reason1_simil_taste\n",
      "7_Reason1_simil_health\n",
      "7_Reason2_simil_taste\n",
      "7_Reason2_simil_health\n",
      "7_Reason3_simil_taste\n",
      "7_Reason3_simil_health\n",
      "7_Reason4_simil_taste\n",
      "7_Reason4_simil_health\n",
      "8_Reason1_simil_taste\n",
      "8_Reason1_simil_health\n",
      "8_Reason2_simil_taste\n",
      "8_Reason2_simil_health\n",
      "8_Reason3_simil_taste\n",
      "8_Reason3_simil_health\n",
      "8_Reason4_simil_taste\n",
      "8_Reason4_simil_health\n",
      "9_Reason1_simil_taste\n",
      "9_Reason1_simil_health\n",
      "9_Reason2_simil_taste\n",
      "9_Reason2_simil_health\n",
      "9_Reason3_simil_taste\n",
      "9_Reason3_simil_health\n",
      "9_Reason4_simil_taste\n",
      "9_Reason4_simil_health\n",
      "10_Reason1_simil_taste\n",
      "10_Reason1_simil_health\n",
      "10_Reason2_simil_taste\n",
      "10_Reason2_simil_health\n",
      "10_Reason3_simil_taste\n",
      "10_Reason3_simil_health\n",
      "10_Reason4_simil_taste\n",
      "10_Reason4_simil_health\n",
      "11_Reason1_simil_taste\n",
      "11_Reason1_simil_health\n",
      "11_Reason2_simil_taste\n",
      "11_Reason2_simil_health\n",
      "11_Reason3_simil_taste\n",
      "11_Reason3_simil_health\n",
      "11_Reason4_simil_taste\n",
      "11_Reason4_simil_health\n",
      "12_Reason1_simil_taste\n",
      "12_Reason1_simil_health\n",
      "12_Reason2_simil_taste\n",
      "12_Reason2_simil_health\n",
      "12_Reason3_simil_taste\n",
      "12_Reason3_simil_health\n",
      "12_Reason4_simil_taste\n",
      "12_Reason4_simil_health\n",
      "13_Reason1_simil_taste\n",
      "13_Reason1_simil_health\n",
      "13_Reason2_simil_taste\n",
      "13_Reason2_simil_health\n",
      "13_Reason3_simil_taste\n",
      "13_Reason3_simil_health\n",
      "13_Reason4_simil_taste\n",
      "13_Reason4_simil_health\n",
      "14_Reason1_simil_taste\n",
      "14_Reason1_simil_health\n",
      "14_Reason2_simil_taste\n",
      "14_Reason2_simil_health\n",
      "14_Reason3_simil_taste\n",
      "14_Reason3_simil_health\n",
      "14_Reason4_simil_taste\n",
      "14_Reason4_simil_health\n",
      "15_Reason1_simil_taste\n",
      "15_Reason1_simil_health\n",
      "15_Reason2_simil_taste\n",
      "15_Reason2_simil_health\n",
      "15_Reason3_simil_taste\n",
      "15_Reason3_simil_health\n",
      "15_Reason4_simil_taste\n",
      "15_Reason4_simil_health\n",
      "16_Reason1_simil_taste\n",
      "16_Reason1_simil_health\n",
      "16_Reason2_simil_taste\n",
      "16_Reason2_simil_health\n",
      "16_Reason3_simil_taste\n",
      "16_Reason3_simil_health\n",
      "16_Reason4_simil_taste\n",
      "16_Reason4_simil_health\n",
      "17_Reason1_simil_taste\n",
      "17_Reason1_simil_health\n",
      "17_Reason2_simil_taste\n",
      "17_Reason2_simil_health\n",
      "17_Reason3_simil_taste\n",
      "17_Reason3_simil_health\n",
      "17_Reason4_simil_taste\n",
      "17_Reason4_simil_health\n",
      "18_Reason1_simil_taste\n",
      "18_Reason1_simil_health\n",
      "18_Reason2_simil_taste\n",
      "18_Reason2_simil_health\n",
      "18_Reason3_simil_taste\n",
      "18_Reason3_simil_health\n",
      "18_Reason4_simil_taste\n",
      "18_Reason4_simil_health\n",
      "19_Reason1_simil_taste\n",
      "19_Reason1_simil_health\n",
      "19_Reason2_simil_taste\n",
      "19_Reason2_simil_health\n",
      "19_Reason3_simil_taste\n",
      "19_Reason3_simil_health\n",
      "19_Reason4_simil_taste\n",
      "19_Reason4_simil_health\n",
      "20_Reason1_simil_taste\n",
      "20_Reason1_simil_health\n",
      "20_Reason2_simil_taste\n",
      "20_Reason2_simil_health\n",
      "20_Reason3_simil_taste\n",
      "20_Reason3_simil_health\n",
      "20_Reason4_simil_taste\n",
      "20_Reason4_simil_health\n"
     ]
    }
   ],
   "source": [
    "for c in dfInUse.columns:\n",
    "    print(c)"
   ]
  },
  {
   "cell_type": "code",
   "execution_count": 7,
   "id": "weighted-split",
   "metadata": {},
   "outputs": [],
   "source": [
    "## replace responses and ratings with dummy codes\n",
    "# parenthesis is for breaking line\n",
    "replacements = ({'No, I would not like to eat this':0,'Yes, I would like to eat this':1,\n",
    "                 'Strong dislike':-1.5, 'Dislike':-.5, 'Like': .5, 'Strong like':1.5,\n",
    "                'Very unhealthy':-2, 'Slightly unhealthy':-1,'Neither healthy nor unhealthy.':0,\n",
    "                 'Slightly healthy':1, 'Very healthy':2,\n",
    "                 'Very untasty':-2, 'Slightly untasty':-1,'Neither tasty nor untasty.':0,\n",
    "                 'Slightly tasty':1, 'Very tasty':2, 'Extremely positive':1.5, 'Moderately positive':1, \n",
    "                 'Slightly positve':.5,'Neither negative nor positive':0,'Slightly negative':-.5,\n",
    "                 'Moderately negative':-1,'Extremely negative':-1.5})\n",
    "dfInUse.replace(replacements,inplace=True)"
   ]
  },
  {
   "cell_type": "code",
   "execution_count": 8,
   "id": "clinical-creativity",
   "metadata": {},
   "outputs": [],
   "source": [
    "for f in range(1,21):\n",
    "    for r in range(1,5):\n",
    "        dfInUse.rename(columns={'Food'+str(f)+'_Valence_'+str(r):str(f)+'_Valence_'+str(r)}, inplace=True)"
   ]
  },
  {
   "cell_type": "code",
   "execution_count": 9,
   "id": "round-liver",
   "metadata": {},
   "outputs": [
    {
     "data": {
      "text/plain": [
       "0     -0.5\n",
       "1      0.5\n",
       "2     -1.0\n",
       "3      1.5\n",
       "4     -0.5\n",
       "      ... \n",
       "266    NaN\n",
       "267    NaN\n",
       "268    NaN\n",
       "269   -1.5\n",
       "270   -1.5\n",
       "Name: 1_Valence_1, Length: 271, dtype: float64"
      ]
     },
     "execution_count": 9,
     "metadata": {},
     "output_type": "execute_result"
    }
   ],
   "source": [
    "dfInUse['1_Valence_1']"
   ]
  },
  {
   "cell_type": "code",
   "execution_count": 10,
   "id": "fantastic-brunswick",
   "metadata": {},
   "outputs": [],
   "source": [
    "def get_simil(dfInUse, cond):\n",
    "    ### extracts mean similarity of first reason to taste and health\n",
    "    ### across foods for each subject and condition ('Natural','Health')\n",
    "    dff = dfInUse[(dfInUse['Condition']==cond)& (dfInUse['Progress']==100)].copy()\n",
    "    simil_mean = np.full((dff.shape[0],2),np.nan)\n",
    "    for snum in range(dff.shape[0]):\n",
    "        ## initialize and get the first food data\n",
    "#         y = np.full((20),np.nan)\n",
    "        X = np.full((20,2),np.nan)\n",
    "\n",
    "        # apped choice and first reason for foods 2-20\n",
    "        for f in range(1,21):\n",
    "#             y[f-1]   = dff[str(f)+'_'+resp].iloc[snum]\n",
    "            X[f-1,:] = np.array([dff[str(f)+'_Reason1_simil_taste'].iloc[snum],dff[str(f)+'_Reason1_simil_health'].iloc[snum]])\n",
    "\n",
    "\n",
    "        simil_mean[snum,:] = np.nanmean(X,axis=0)\n",
    "    return simil_mean\n",
    "    "
   ]
  },
  {
   "cell_type": "code",
   "execution_count": 22,
   "id": "interior-belle",
   "metadata": {},
   "outputs": [],
   "source": [
    "def print_stats(NatValues,HealthValues,valueType, predictors):\n",
    "    from scipy import stats\n",
    "    for p, pred in enumerate(predictors):\n",
    "        [t,p] = stats.ttest_ind(NatValues[:,p],HealthValues[:,p])\n",
    "        print(f'{valueType}:  {pred} in Natural vs Health: t= {round(t,2)}, p= {round(p,3)}')\n",
    "\n",
    "    [t,p] = stats.ttest_rel(NatValues[:,0],NatValues[:,1])\n",
    "    print(f'{valueType}:  {predictors[0]} vs {predictors[1]} in Natural: t= {round(t,2)}, p= {round(p,3)}')\n",
    "\n",
    "    [t,p] = stats.ttest_rel(HealthValues[:,0],HealthValues[:,1])\n",
    "    print(f'{valueType}:  {predictors[0]} vs {predictors[1]} in Health: t= {round(t,2)}, p= {round(p,3)}')\n",
    "    \n",
    "    if len(predictors) == 4:\n",
    "        [t,p] = stats.ttest_rel(NatValues[:,2],NatValues[:,3])\n",
    "        print(f'{valueType}:  {predictors[2]} vs {predictors[3]} in Natural: t= {round(t,2)}, p= {round(p,3)}')\n",
    "\n",
    "        [t,p] = stats.ttest_rel(HealthValues[:,2],HealthValues[:,3])\n",
    "        print(f'{valueType}:  {predictors[2]} vs {predictors[3]} in Health: t= {round(t,2)}, p= {round(p,3)}')\n",
    "\n",
    "        \n"
   ]
  },
  {
   "cell_type": "code",
   "execution_count": 20,
   "id": "material-being",
   "metadata": {},
   "outputs": [],
   "source": [
    "def plot_(NatValues, HealthValues, valueType, atts):\n",
    "### plot\n",
    "    from scipy import stats\n",
    "    import numpy as np\n",
    "    from matplotlib import pyplot as plt\n",
    "    \n",
    "    conds = ['Natural','Health']\n",
    "#     atts  = ['Taste','Health']\n",
    "    colors   = ['royalblue','salmon','blue','red']\n",
    "    colors   = colors[:len(atts)]\n",
    "    width = .3\n",
    "    temp = [0]*2\n",
    "    temp[0] = NatValues\n",
    "    temp[1] = HealthValues\n",
    "    x = np.asarray(range(len(atts)))\n",
    "    dist = [-.5,.5]\n",
    "#     dist = dist[round(len(dist)/len(atts))-1:round(len(dist)/len(atts))-1+len(atts)]\n",
    "    \n",
    "    fig, ax = plt.subplots()\n",
    "    for c, cond in enumerate(conds):\n",
    "        att = ax.bar(x+np.asarray(dist[c])*width,np.nanmean(temp[c],axis=0),width,label =cond,color=colors[c])\n",
    "        att = (ax.errorbar(x+np.asarray(dist[c])*width,\n",
    "                           np.nanmean(temp[c],axis=0),yerr=stats.sem(temp[c],axis=0),ecolor='k',fmt='none'))\n",
    "\n",
    "    ax.set_ylabel(valueType,fontdict={'fontsize':16,'fontweight': 'normal'})\n",
    "    ax.set_xticks(x)\n",
    "    ax.set_xticklabels(atts,fontdict={'fontsize':7,'fontweight': 'normal'})\n",
    "#     ax.set_title(study+ ', N='+str(choiceBetas.shape[0]),fontdict={'fontsize':20,'fontweight': 'bold'})\n",
    "\n",
    "    #remove top frame border\n",
    "    ax.spines['top'].set_visible(False)\n",
    "    #remove right frame border\n",
    "    ax.spines['right'].set_visible(False)\n",
    "    plt.legend(fontsize = 12, prop = {'weight':'normal'},frameon=False)\n",
    "    # ax.grid(b=None)\n",
    "    plt.show()\n",
    "\n",
    "    # savefile = osp.join('Figures','choiceBetas.png')\n",
    "    # fig.savefig(savefile)\n"
   ]
  },
  {
   "cell_type": "code",
   "execution_count": 13,
   "id": "flying-drink",
   "metadata": {},
   "outputs": [],
   "source": [
    "## create model input for Natural condition\n",
    "def get_linear_reg_coefs(dfInUse, cond, resp, predictors):\n",
    "    dff = dfInUse[(dfInUse['Condition']==cond) & (dfInUse['Progress']==100)].copy()\n",
    "    coefs = np.full((dff.shape[0],len(predictors)),np.nan)\n",
    "\n",
    "    for snum in range(dff.shape[0]):\n",
    "        y = np.full((20),np.nan)\n",
    "        X = np.full((20,len(predictors)),np.nan)\n",
    "        temp = np.array([])\n",
    "        for f in range(1,21):\n",
    "            y[f-1]   = dff[str(f)+'_'+resp].iloc[snum]\n",
    "            for p, pred in enumerate(predictors):\n",
    "                if pred.find('X') < 0: # -1 if X doesnt exist in pred; index if it does\n",
    "                    X[f-1,p] = np.append(temp, np.array([dff[str(f)+'_'+pred].iloc[snum]]))\n",
    "                else:\n",
    "                    X[f-1,p] = (np.append(temp, np.array([dff[str(f)+'_'+pred[:pred.find('X')]].iloc[snum]*\n",
    "                                                          dff[str(f)+'_'+pred[pred.find('X')+1:]].iloc[snum]])))\n",
    "\n",
    "        X = X[~np.isnan(y),:]\n",
    "        y = y[~np.isnan(y)]\n",
    "        y = y[~np.any(np.isnan(X), axis=1)]\n",
    "        X = X[~np.any(np.isnan(X), axis=1)]\n",
    "\n",
    "        ## train linear regression model for Natural condition\n",
    "        from sklearn.linear_model import LinearRegression\n",
    "        LR = LinearRegression()\n",
    "        LR.fit(X,y)\n",
    "        coefs[snum,:] = LR.coef_\n",
    "    return coefs"
   ]
  },
  {
   "cell_type": "markdown",
   "id": "advance-bhutan",
   "metadata": {},
   "source": [
    "### replicate: find contribution of taste and health to value (response, pre- and post-liking)"
   ]
  },
  {
   "cell_type": "code",
   "execution_count": 58,
   "id": "dutch-logan",
   "metadata": {},
   "outputs": [
    {
     "name": "stdout",
     "output_type": "stream",
     "text": [
      "contribution to value:  taste in Natural vs Health: t= 1.24, p= 0.216\n",
      "contribution to value:  health in Natural vs Health: t= -6.06, p= 0.0\n",
      "contribution to value:  taste vs health in Natural: t= 13.53, p= 0.0\n",
      "contribution to value:  taste vs health in Health: t= 4.44, p= 0.0\n"
     ]
    },
    {
     "data": {
      "image/png": "[encoded data removed]",
      "text/plain": [
       "<Figure size 432x288 with 1 Axes>"
      ]
     },
     "metadata": {
      "needs_background": "light"
     },
     "output_type": "display_data"
    }
   ],
   "source": [
    "### response\n",
    "predictors = ['taste','health']\n",
    "coefsNat    = get_linear_reg_coefs(dfInUse,'Natural','ChoiceTask_Resp',predictors) \n",
    "coefsHealth = get_linear_reg_coefs(dfInUse,'Health','ChoiceTask_Resp',predictors) \n",
    "print_stats(coefsNat,coefsHealth,'contribution to value',predictors)\n",
    "plot_(coefsNat,coefsHealth,'contribution to value',predictors)"
   ]
  },
  {
   "cell_type": "code",
   "execution_count": 59,
   "id": "architectural-ladder",
   "metadata": {},
   "outputs": [
    {
     "name": "stdout",
     "output_type": "stream",
     "text": [
      "contribution to value:  taste in Natural vs Health: t= -1.02, p= 0.31\n",
      "contribution to value:  health in Natural vs Health: t= -0.44, p= 0.659\n",
      "contribution to value:  taste vs health in Natural: t= 12.32, p= 0.0\n",
      "contribution to value:  taste vs health in Health: t= 12.93, p= 0.0\n"
     ]
    },
    {
     "data": {
      "image/png": "[encoded data removed]",
      "text/plain": [
       "<Figure size 432x288 with 1 Axes>"
      ]
     },
     "metadata": {
      "needs_background": "light"
     },
     "output_type": "display_data"
    }
   ],
   "source": [
    "### pre-liking\n",
    "predictors = ['taste','health']\n",
    "coefsNat    = get_linear_reg_coefs(dfInUse,'Natural','choicePre',predictors) \n",
    "coefsHealth = get_linear_reg_coefs(dfInUse,'Health','choicePre',predictors) \n",
    "print_stats(coefsNat,coefsHealth,'contribution to value',predictors)\n",
    "plot_(coefsNat,coefsHealth,'contribution to value',predictors)"
   ]
  },
  {
   "cell_type": "code",
   "execution_count": 60,
   "id": "prepared-maker",
   "metadata": {},
   "outputs": [
    {
     "name": "stdout",
     "output_type": "stream",
     "text": [
      "contribution to value:  taste in Natural vs Health: t= 0.42, p= 0.673\n",
      "contribution to value:  health in Natural vs Health: t= -4.41, p= 0.0\n",
      "contribution to value:  taste vs health in Natural: t= 14.46, p= 0.0\n",
      "contribution to value:  taste vs health in Health: t= 9.03, p= 0.0\n"
     ]
    },
    {
     "data": {
      "image/png": "[encoded data removed]",
      "text/plain": [
       "<Figure size 432x288 with 1 Axes>"
      ]
     },
     "metadata": {
      "needs_background": "light"
     },
     "output_type": "display_data"
    }
   ],
   "source": [
    "### post-liking\n",
    "coefsNat    = get_linear_reg_coefs(dfInUse,'Natural','choicePost',predictors) \n",
    "coefsHealth = get_linear_reg_coefs(dfInUse,'Health','choicePost',predictors) \n",
    "print_stats(coefsNat,coefsHealth,'contribution to value',predictors)\n",
    "plot_(coefsNat,coefsHealth,'contribution to value',predictors)"
   ]
  },
  {
   "cell_type": "code",
   "execution_count": 61,
   "id": "secondary-florence",
   "metadata": {},
   "outputs": [
    {
     "name": "stdout",
     "output_type": "stream",
     "text": [
      "change in contribution to value:  taste in Natural vs Health: t= 1.64, p= 0.102\n",
      "change in contribution to value:  health in Natural vs Health: t= -4.52, p= 0.0\n",
      "change in contribution to value:  taste vs health in Natural: t= 2.84, p= 0.005\n",
      "change in contribution to value:  taste vs health in Health: t= -3.07, p= 0.003\n"
     ]
    },
    {
     "data": {
      "image/png": "[encoded data removed]",
      "text/plain": [
       "<Figure size 432x288 with 1 Axes>"
      ]
     },
     "metadata": {
      "needs_background": "light"
     },
     "output_type": "display_data"
    }
   ],
   "source": [
    "### change in contribution post vs pre\n",
    "coefsNat    = (get_linear_reg_coefs(dfInUse,'Natural','choicePost',predictors)-\n",
    "               get_linear_reg_coefs(dfInUse,'Natural','choicePre',predictors))\n",
    "coefsHealth = (get_linear_reg_coefs(dfInUse,'Health','choicePost',predictors)-\n",
    "               get_linear_reg_coefs(dfInUse,'Health','choicePre',predictors))\n",
    "print_stats(coefsNat,coefsHealth,'change in contribution to value',predictors)\n",
    "plot_(coefsNat,coefsHealth,'change in contribution to value',predictors)"
   ]
  },
  {
   "cell_type": "markdown",
   "id": "greatest-august",
   "metadata": {},
   "source": [
    "### check: is similarity of reason to taste and health modified by condition?"
   ]
  },
  {
   "cell_type": "code",
   "execution_count": 63,
   "id": "driven-greeting",
   "metadata": {},
   "outputs": [
    {
     "name": "stdout",
     "output_type": "stream",
     "text": [
      "similarity of first reason:  Reason1_simil_taste in Natural vs Health: t= 2.48, p= 0.014\n",
      "similarity of first reason:  Reason1_simil_health in Natural vs Health: t= -6.73, p= 0.0\n",
      "similarity of first reason:  Reason1_simil_taste vs Reason1_simil_health in Natural: t= 31.41, p= 0.0\n",
      "similarity of first reason:  Reason1_simil_taste vs Reason1_simil_health in Health: t= 14.79, p= 0.0\n"
     ]
    },
    {
     "data": {
      "image/png": "[encoded data removed]",
      "text/plain": [
       "<Figure size 432x288 with 1 Axes>"
      ]
     },
     "metadata": {
      "needs_background": "light"
     },
     "output_type": "display_data"
    }
   ],
   "source": [
    "### get similaries and compare ###\n",
    "predictors = ['Reason1_simil_taste','Reason1_simil_health']\n",
    "similNat    = get_simil(dfInUse,'Natural')\n",
    "similHealth = get_simil(dfInUse,'Health')\n",
    "print_stats(similNat,similHealth,'similarity of first reason',predictors)\n",
    "plot_(similNat,similHealth,'similarity of first reason',predictors)"
   ]
  },
  {
   "cell_type": "markdown",
   "id": "civic-turning",
   "metadata": {},
   "source": [
    "### can similarity of the reason to taste and health predict value (response, pre- and post-liking)\n"
   ]
  },
  {
   "cell_type": "code",
   "execution_count": 64,
   "id": "extensive-playlist",
   "metadata": {},
   "outputs": [
    {
     "name": "stdout",
     "output_type": "stream",
     "text": [
      "contribution to value:  Reason1_simil_taste in Natural vs Health: t= -0.56, p= 0.575\n",
      "contribution to value:  Reason1_simil_health in Natural vs Health: t= -0.06, p= 0.954\n",
      "contribution to value:  Reason1_simil_taste vs Reason1_simil_health in Natural: t= -1.0, p= 0.319\n",
      "contribution to value:  Reason1_simil_taste vs Reason1_simil_health in Health: t= -1.0, p= 0.319\n"
     ]
    },
    {
     "data": {
      "image/png": "[encoded data removed]",
      "text/plain": [
       "<Figure size 432x288 with 1 Axes>"
      ]
     },
     "metadata": {
      "needs_background": "light"
     },
     "output_type": "display_data"
    }
   ],
   "source": [
    "###\n",
    "predictors = ['Reason1_simil_taste','Reason1_simil_health']\n",
    "coefsNat    = get_linear_reg_coefs(dfInUse,'Natural','ChoiceTask_Resp',predictors) \n",
    "coefsHealth = get_linear_reg_coefs(dfInUse,'Health','ChoiceTask_Resp',predictors) \n",
    "print_stats(coefsNat,coefsHealth,'contribution to value',predictors)\n",
    "plot_(coefsNat,coefsHealth,'contribution to value',predictors)"
   ]
  },
  {
   "cell_type": "code",
   "execution_count": 65,
   "id": "signed-scott",
   "metadata": {},
   "outputs": [
    {
     "data": {
      "text/plain": [
       "(array([17, 70], dtype=int64),)"
      ]
     },
     "execution_count": 65,
     "metadata": {},
     "output_type": "execute_result"
    }
   ],
   "source": [
    "### there are some huge coefs inflating the mean\n",
    "cond = 'Natural'\n",
    "resp = 'ChoiceTask_Resp'\n",
    "predictors = ['Reason1_simil_taste','Reason1_simil_health']\n",
    "coefs = get_linear_reg_coefs(dfInUse,cond,resp,predictors)\n",
    "np.where(abs(coefs[:,1])>30)\n",
    "# coefs[17,:]"
   ]
  },
  {
   "cell_type": "code",
   "execution_count": 66,
   "id": "fantastic-mentor",
   "metadata": {},
   "outputs": [],
   "source": [
    "snum = 1\n",
    "dff = dfInUse[(dfInUse['Condition']==cond)& (dfInUse['Progress']==100)].copy()\n",
    "coefs = np.full((dff.shape[0],2),np.nan)\n",
    "y = np.full((20),np.nan)\n",
    "X = np.full((20,2),np.nan)\n",
    "\n",
    "for f in range(1,21):\n",
    "    y[f-1]   = dff[str(f)+'_'+resp].iloc[snum]\n",
    "    X[f-1,:] = np.array([dff[str(f)+'_'+predictors[0]].iloc[snum],dff[str(f)+'_'+predictors[1]].iloc[snum]])\n"
   ]
  },
  {
   "cell_type": "code",
   "execution_count": 67,
   "id": "manual-civilian",
   "metadata": {},
   "outputs": [
    {
     "name": "stdout",
     "output_type": "stream",
     "text": [
      "yummy\n",
      "yummy\n",
      "gross\n",
      "gross\n",
      "gross\n",
      "yummy\n",
      "yummy\n",
      "gross\n",
      "gross\n",
      "gross\n",
      "gross\n",
      "gross\n",
      "yummy\n",
      "yummy\n",
      "yummy\n",
      "gross\n",
      "gross\n",
      "gross\n",
      "gross\n",
      "gross\n"
     ]
    }
   ],
   "source": [
    "### This is why the reg coef was inflated for this subject (using exact same reason for response creating a one-to-one mapping)\n",
    "for f in range(1,21):\n",
    "    print(dff[str(f)+'_Reason1'].iloc[17])\n",
    "    \n"
   ]
  },
  {
   "cell_type": "code",
   "execution_count": 68,
   "id": "gentle-aviation",
   "metadata": {},
   "outputs": [
    {
     "name": "stdout",
     "output_type": "stream",
     "text": [
      "contribution to value:  Reason1_simil_taste in Natural vs Health: t= 0.77, p= 0.444\n",
      "contribution to value:  Reason1_simil_health in Natural vs Health: t= -1.61, p= 0.108\n",
      "contribution to value:  Reason1_simil_taste vs Reason1_simil_health in Natural: t= 2.9, p= 0.004\n",
      "contribution to value:  Reason1_simil_taste vs Reason1_simil_health in Health: t= -0.09, p= 0.931\n"
     ]
    },
    {
     "data": {
      "image/png": "[encoded data removed]",
      "text/plain": [
       "<Figure size 432x288 with 1 Axes>"
      ]
     },
     "metadata": {
      "needs_background": "light"
     },
     "output_type": "display_data"
    }
   ],
   "source": [
    "### repeat after eliminating large coefs\n",
    "### response\n",
    "predictors = ['Reason1_simil_taste','Reason1_simil_health']\n",
    "coefsNat    = get_linear_reg_coefs(dfInUse,'Natural','ChoiceTask_Resp',predictors) \n",
    "coefsHealth = get_linear_reg_coefs(dfInUse,'Health','ChoiceTask_Resp',predictors) \n",
    "coefsNat = coefsNat[~np.any(abs(coefsNat)>50,axis=1),:]\n",
    "coefsHealth = coefsHealth[~np.any(abs(coefsHealth)>50,axis=1),:]\n",
    "\n",
    "# coefsNat.shape\n",
    "# coefsHealth.shape\n",
    "print_stats(coefsNat,coefsHealth,'contribution to value',predictors)\n",
    "plot_(coefsNat,coefsHealth,'contribution to value',predictors)"
   ]
  },
  {
   "cell_type": "code",
   "execution_count": 69,
   "id": "objective-buying",
   "metadata": {},
   "outputs": [
    {
     "data": {
      "text/plain": [
       "array([1.22814802, 0.003383  ])"
      ]
     },
     "execution_count": 69,
     "metadata": {},
     "output_type": "execute_result"
    }
   ],
   "source": [
    "np.mean(coefsNat,axis=0)"
   ]
  },
  {
   "cell_type": "code",
   "execution_count": 70,
   "id": "defined-photographer",
   "metadata": {},
   "outputs": [
    {
     "name": "stdout",
     "output_type": "stream",
     "text": [
      "contribution to value:  Reason1_simil_taste in Natural vs Health: t= 2.01, p= 0.046\n",
      "contribution to value:  Reason1_simil_health in Natural vs Health: t= 0.04, p= 0.969\n",
      "contribution to value:  Reason1_simil_taste vs Reason1_simil_health in Natural: t= 1.68, p= 0.096\n",
      "contribution to value:  Reason1_simil_taste vs Reason1_simil_health in Health: t= -0.07, p= 0.945\n"
     ]
    },
    {
     "data": {
      "image/png": "[encoded data removed]",
      "text/plain": [
       "<Figure size 432x288 with 1 Axes>"
      ]
     },
     "metadata": {
      "needs_background": "light"
     },
     "output_type": "display_data"
    }
   ],
   "source": [
    "### pre-liking\n",
    "predictors = ['Reason1_simil_taste','Reason1_simil_health']\n",
    "coefsNat    = get_linear_reg_coefs(dfInUse,'Natural','choicePre',predictors) \n",
    "coefsHealth = get_linear_reg_coefs(dfInUse,'Health','choicePre',predictors) \n",
    "coefsNat = coefsNat[~np.any(abs(coefsNat)>50,axis=1),:]\n",
    "coefsHealth = coefsHealth[~np.any(abs(coefsHealth)>50,axis=1),:]\n",
    "\n",
    "# coefsNat.shape\n",
    "# coefsHealth.shape\n",
    "print_stats(coefsNat,coefsHealth,'contribution to value',predictors)\n",
    "plot_(coefsNat,coefsHealth,'contribution to value',predictors)"
   ]
  },
  {
   "cell_type": "code",
   "execution_count": 71,
   "id": "blind-ecuador",
   "metadata": {},
   "outputs": [
    {
     "name": "stdout",
     "output_type": "stream",
     "text": [
      "contribution to value:  Reason1_simil_taste in Natural vs Health: t= 1.37, p= 0.172\n",
      "contribution to value:  Reason1_simil_health in Natural vs Health: t= -0.86, p= 0.388\n",
      "contribution to value:  Reason1_simil_taste vs Reason1_simil_health in Natural: t= 2.59, p= 0.011\n",
      "contribution to value:  Reason1_simil_taste vs Reason1_simil_health in Health: t= 0.37, p= 0.71\n"
     ]
    },
    {
     "data": {
      "image/png": "[encoded data removed]",
      "text/plain": [
       "<Figure size 432x288 with 1 Axes>"
      ]
     },
     "metadata": {
      "needs_background": "light"
     },
     "output_type": "display_data"
    }
   ],
   "source": [
    "### post-liking\n",
    "predictors = ['Reason1_simil_taste','Reason1_simil_health']\n",
    "coefsNat    = get_linear_reg_coefs(dfInUse,'Natural','choicePost',predictors) \n",
    "coefsHealth = get_linear_reg_coefs(dfInUse,'Health','choicePost',predictors) \n",
    "coefsNat = coefsNat[~np.any(abs(coefsNat)>50,axis=1),:]\n",
    "coefsHealth = coefsHealth[~np.any(abs(coefsHealth)>50,axis=1),:]\n",
    "\n",
    "# coefsNat.shape\n",
    "# coefsHealth.shape\n",
    "print_stats(coefsNat,coefsHealth,'contribution to value',predictors)\n",
    "plot_(coefsNat,coefsHealth,'contribution to value',predictors)"
   ]
  },
  {
   "cell_type": "code",
   "execution_count": 73,
   "id": "supreme-origin",
   "metadata": {},
   "outputs": [
    {
     "name": "stdout",
     "output_type": "stream",
     "text": [
      "1.1812022402639184 0.24011701147548137\n"
     ]
    }
   ],
   "source": [
    "# is health in Health condition significant?\n",
    "from scipy import stats\n",
    "[t,p] = stats.ttest_1samp(coefsHealth[:,1],0)\n",
    "print(t,p)"
   ]
  },
  {
   "cell_type": "code",
   "execution_count": 74,
   "id": "mature-lexington",
   "metadata": {},
   "outputs": [
    {
     "name": "stdout",
     "output_type": "stream",
     "text": [
      "change in contribution to value:  Reason1_simil_taste in Natural vs Health: t= -0.76, p= 0.451\n",
      "change in contribution to value:  Reason1_simil_health in Natural vs Health: t= -0.78, p= 0.434\n",
      "change in contribution to value:  Reason1_simil_taste vs Reason1_simil_health in Natural: t= 0.95, p= 0.343\n",
      "change in contribution to value:  Reason1_simil_taste vs Reason1_simil_health in Health: t= 0.68, p= 0.498\n"
     ]
    },
    {
     "data": {
      "image/png": "[encoded data removed]",
      "text/plain": [
       "<Figure size 432x288 with 1 Axes>"
      ]
     },
     "metadata": {
      "needs_background": "light"
     },
     "output_type": "display_data"
    }
   ],
   "source": [
    "# change in contribution to liking\n",
    "predictors = ['Reason1_simil_taste','Reason1_simil_health']\n",
    "coefsNat    = (get_linear_reg_coefs(dfInUse,'Natural','choicePost',predictors)-\n",
    "               get_linear_reg_coefs(dfInUse,'Natural','choicePre',predictors))\n",
    "coefsHealth = (get_linear_reg_coefs(dfInUse,'Health','choicePost',predictors)-\n",
    "               get_linear_reg_coefs(dfInUse,'Health','choicePre',predictors))\n",
    "coefsNat = coefsNat[~np.any(abs(coefsNat)>50,axis=1),:]\n",
    "coefsHealth = coefsHealth[~np.any(abs(coefsHealth)>50,axis=1),:]\n",
    "\n",
    "print_stats(coefsNat,coefsHealth,'change in contribution to value',predictors)\n",
    "plot_(coefsNat,coefsHealth,'change in contribution to value',predictors)"
   ]
  },
  {
   "cell_type": "code",
   "execution_count": 16,
   "id": "infectious-proposition",
   "metadata": {},
   "outputs": [
    {
     "name": "stdout",
     "output_type": "stream",
     "text": [
      "change in contribution to value:  Valence_1XReason1_simil_taste in Natural vs Health: t= 1.64, p= 0.103\n",
      "change in contribution to value:  Valence_1XReason1_simil_health in Natural vs Health: t= -2.17, p= 0.031\n",
      "change in contribution to value:  Valence_1XReason1_simil_taste vs Valence_1XReason1_simil_health in Natural: t= 1.02, p= 0.309\n",
      "change in contribution to value:  Valence_1XReason1_simil_taste vs Valence_1XReason1_simil_health in Health: t= -2.6, p= 0.011\n"
     ]
    },
    {
     "data": {
      "image/png": "[encoded data removed]",
      "text/plain": [
       "<Figure size 432x288 with 1 Axes>"
      ]
     },
     "metadata": {
      "needs_background": "light"
     },
     "output_type": "display_data"
    }
   ],
   "source": [
    "# change in contribution to liking\n",
    "predictors = ['Valence_1XReason1_simil_taste','Valence_1XReason1_simil_health']\n",
    "coefsNat    = (get_linear_reg_coefs(dfInUse,'Natural','choicePost',predictors)-\n",
    "               get_linear_reg_coefs(dfInUse,'Natural','choicePre',predictors))\n",
    "coefsHealth = (get_linear_reg_coefs(dfInUse,'Health','choicePost',predictors)-\n",
    "               get_linear_reg_coefs(dfInUse,'Health','choicePre',predictors))\n",
    "coefsNat = coefsNat[~np.any(abs(coefsNat)>50,axis=1),:]\n",
    "coefsHealth = coefsHealth[~np.any(abs(coefsHealth)>50,axis=1),:]\n",
    "\n",
    "print_stats(coefsNat,coefsHealth,'change in contribution to value',predictors)\n",
    "plot_(coefsNat,coefsHealth,'change in contribution to value',predictors)"
   ]
  },
  {
   "cell_type": "code",
   "execution_count": 23,
   "id": "municipal-walter",
   "metadata": {},
   "outputs": [
    {
     "name": "stdout",
     "output_type": "stream",
     "text": [
      "change in contribution to value:  taste in Natural vs Health: t= 1.24, p= 0.215\n",
      "change in contribution to value:  health in Natural vs Health: t= -2.6, p= 0.01\n",
      "change in contribution to value:  Valence_1XReason1_simil_taste in Natural vs Health: t= 1.46, p= 0.147\n",
      "change in contribution to value:  Valence_1XReason1_simil_health in Natural vs Health: t= -1.5, p= 0.134\n",
      "change in contribution to value:  taste vs health in Natural: t= 1.56, p= 0.122\n",
      "change in contribution to value:  taste vs health in Health: t= -2.22, p= 0.028\n",
      "change in contribution to value:  Valence_1XReason1_simil_taste vs Valence_1XReason1_simil_health in Natural: t= 1.05, p= 0.298\n",
      "change in contribution to value:  Valence_1XReason1_simil_taste vs Valence_1XReason1_simil_health in Health: t= -1.22, p= 0.225\n"
     ]
    },
    {
     "data": {
      "image/png": "[encoded data removed]",
      "text/plain": [
       "<Figure size 432x288 with 1 Axes>"
      ]
     },
     "metadata": {
      "needs_background": "light"
     },
     "output_type": "display_data"
    }
   ],
   "source": [
    "# change in contribution to liking\n",
    "predictors = ['taste','health','Valence_1XReason1_simil_taste','Valence_1XReason1_simil_health']\n",
    "coefsNat    = (get_linear_reg_coefs(dfInUse,'Natural','choicePost',predictors)-\n",
    "               get_linear_reg_coefs(dfInUse,'Natural','choicePre',predictors))\n",
    "coefsHealth = (get_linear_reg_coefs(dfInUse,'Health','choicePost',predictors)-\n",
    "               get_linear_reg_coefs(dfInUse,'Health','choicePre',predictors))\n",
    "coefsNat = coefsNat[~np.any(abs(coefsNat)>50,axis=1),:]\n",
    "coefsHealth = coefsHealth[~np.any(abs(coefsHealth)>50,axis=1),:]\n",
    "\n",
    "print_stats(coefsNat,coefsHealth,'change in contribution to value',predictors)\n",
    "plot_(coefsNat,coefsHealth,'change in contribution to value',predictors)"
   ]
  },
  {
   "cell_type": "code",
   "execution_count": 19,
   "id": "alone-budapest",
   "metadata": {},
   "outputs": [
    {
     "data": {
      "text/plain": [
       "0      0.0\n",
       "1      2.0\n",
       "2     -1.0\n",
       "3      2.0\n",
       "4     -1.0\n",
       "      ... \n",
       "266    NaN\n",
       "267    NaN\n",
       "268    NaN\n",
       "269    NaN\n",
       "270    NaN\n",
       "Name: 1_taste, Length: 271, dtype: float64"
      ]
     },
     "execution_count": 19,
     "metadata": {},
     "output_type": "execute_result"
    }
   ],
   "source": [
    "dfInUse['1_taste']"
   ]
  },
  {
   "cell_type": "markdown",
   "id": "cleared-polymer",
   "metadata": {},
   "source": [
    "### try similarity regression models on group level"
   ]
  },
  {
   "cell_type": "markdown",
   "id": "sapphire-following",
   "metadata": {},
   "source": [
    "#### reason 1 and choice task response"
   ]
  },
  {
   "cell_type": "code",
   "execution_count": 76,
   "id": "underlying-absolute",
   "metadata": {},
   "outputs": [],
   "source": [
    "def get_goup_linear_reg_input(dfInUse,cond,resp,predictors):\n",
    "    ## create model input for Natural condition\n",
    "    ## initialize and get the first food data\n",
    "    y = np.asarray(dfInUse[dfInUse['Condition']==cond]['1_'+resp])\n",
    "    X = np.full((y.shape[0],len(predictors)),np.nan)\n",
    "    for p, pred in enumerate(predictors):\n",
    "        if pred.find('X') < 0:\n",
    "            X[:,p] = np.asarray(dfInUse[dfInUse['Condition']==cond]['1_'+pred])\n",
    "        else:\n",
    "            X[:,p] = (np.asarray(dfInUse[dfInUse['Condition']==cond]['1_'+pred[:pred.find('X')]])*\n",
    "            np.asarray(dfInUse[dfInUse['Condition']==cond]['1_'+pred[pred.find('X')+1:]]))\n",
    "\n",
    "    # apped choice and first reason for foods 2-20\n",
    "    for f in range(2,21):\n",
    "        temp      = np.full((dfInUse[dfInUse['Condition']==cond].shape[0],len(predictors)),np.nan)\n",
    "        for p, pred in enumerate(predictors):\n",
    "            if pred.find('X') < 0:\n",
    "                temp[:,p] = np.asarray(dfInUse[dfInUse['Condition']==cond][str(f)+'_'+pred])\n",
    "            else:\n",
    "                temp[:,p] = (np.asarray(dfInUse[dfInUse['Condition']==cond][str(f)+'_'+pred[:pred.find('X')]])*\n",
    "                np.asarray(dfInUse[dfInUse['Condition']==cond][str(f)+'_'+pred[pred.find('X')+1:]]))\n",
    "        \n",
    "        y      = np.append(y,dfInUse[dfInUse['Condition']==cond][str(f)+'_'+resp])\n",
    "        X      = np.append(X,temp,axis=0)\n",
    "    \n",
    "    return X,y"
   ]
  },
  {
   "cell_type": "code",
   "execution_count": 100,
   "id": "hourly-strap",
   "metadata": {},
   "outputs": [],
   "source": [
    "# alternatively f_regression from sklearn.feature_selection could be used\n",
    "# Since the p-values are obtained through certain statistics, we need the 'stat' module from scipy.stats\n",
    "import numpy as np\n",
    "import pandas as pd\n",
    "from sklearn import linear_model\n",
    "import scipy.stats as stat\n",
    "\n",
    "# Since we are using an object oriented language such as Python, we can simply define our own \n",
    "# LinearRegression class (the same one from sklearn)\n",
    "# By typing the code below we will ovewrite a part of the class with one that includes p-values\n",
    "# Here's the full source code of the ORIGINAL class: https://github.com/scikit-learn/scikit-learn/blob/7b136e9/sklearn/linear_model/base.py#L362\n",
    "\n",
    "\n",
    "class LinearRegression(linear_model.LinearRegression):\n",
    "    \"\"\"\n",
    "    LinearRegression class after sklearn's, but calculate t-statistics\n",
    "    and p-values for model coefficients (betas).\n",
    "    Additional attributes available after .fit()\n",
    "    are `t` and `p` which are of the shape (y.shape[1], X.shape[1])\n",
    "    which is (n_features, n_coefs)\n",
    "    This class sets the intercept to 0 by default, since usually we include it\n",
    "    in X.\n",
    "    \"\"\"\n",
    "    \n",
    "    # nothing changes in __init__\n",
    "    def __init__(self, fit_intercept=True, normalize=False, copy_X=True,\n",
    "                 n_jobs=1):\n",
    "        self.fit_intercept = fit_intercept\n",
    "        self.normalize = normalize\n",
    "        self.copy_X = copy_X\n",
    "        self.n_jobs = n_jobs\n",
    "        self.positive = False\n",
    "\n",
    "    \n",
    "    def fit(self, X, y, n_jobs=1):\n",
    "        self = super(LinearRegression, self).fit(X, y, n_jobs)\n",
    "        \n",
    "        # Calculate SSE (sum of squared errors)\n",
    "        # and SE (standard error)\n",
    "        sse = np.sum((self.predict(X) - y) ** 2, axis=0) / float(X.shape[0] - X.shape[1])\n",
    "        se = np.array([np.sqrt(np.diagonal(sse * np.linalg.inv(np.dot(X.T, X))))])\n",
    "\n",
    "        # compute the t-statistic for each feature\n",
    "        self.t = self.coef_ / se\n",
    "        # find the p-value for each feature\n",
    "        self.p = np.squeeze(2 * (1 - stat.t.cdf(np.abs(self.t), y.shape[0] - X.shape[1])))\n",
    "        return self\n"
   ]
  },
  {
   "cell_type": "code",
   "execution_count": 78,
   "id": "behind-recorder",
   "metadata": {},
   "outputs": [],
   "source": [
    "def print_reg_stats (model,cond,resp,predictors):\n",
    "    for p, pred in enumerate(predictors):\n",
    "        print(f'{pred} correlation with {resp} in {cond} : {round(model.coef_[p],2)}, p= {round(model.p[p],3)}')\n",
    "#     print(f'{predictors[1]} correlation with {resp} in {cond} : {round(model.coef_[1],2)}, p= {round(model.p[1],3)}')\n"
   ]
  },
  {
   "cell_type": "code",
   "execution_count": 80,
   "id": "through-season",
   "metadata": {},
   "outputs": [
    {
     "name": "stdout",
     "output_type": "stream",
     "text": [
      "Reason1_simil_taste correlation with ChoiceTask_Resp in Natural : 0.83, p= 0.0\n",
      "Reason1_simil_health correlation with ChoiceTask_Resp in Natural : 0.26, p= 0.005\n"
     ]
    }
   ],
   "source": [
    "## contribution of similarity to choice\n",
    "predictors = ['Reason1_simil_taste','Reason1_simil_health']\n",
    "[X,y] = get_goup_linear_reg_input(dfInUse,'Natural','ChoiceTask_Resp',predictors)\n",
    "X = X[~np.isnan(y),:]\n",
    "y = y[~np.isnan(y)]\n",
    "y = y[~np.any(np.isnan(X), axis=1)]\n",
    "X = X[~np.any(np.isnan(X), axis=1)]\n",
    "\n",
    "## train linear regression model for Natural condition\n",
    "# from sklearn.linear_model import LinearRegression\n",
    "LR = LinearRegression()\n",
    "LR.fit(X,y)\n",
    "print_reg_stats(LR,'Natural','ChoiceTask_Resp',predictors)"
   ]
  },
  {
   "cell_type": "code",
   "execution_count": 449,
   "id": "amateur-norway",
   "metadata": {},
   "outputs": [
    {
     "name": "stdout",
     "output_type": "stream",
     "text": [
      "Reason1_simil_taste correlation with ChoiceTask_Resp in Health : 0.75, p= 0.0\n",
      "Reason1_simil_health correlation with ChoiceTask_Resp in Health : 0.45, p= 0.0\n"
     ]
    }
   ],
   "source": [
    "[X,y] = get_goup_linear_reg_input(dfInUse,'Health','ChoiceTask_Resp',['Reason1_simil_taste','Reason1_simil_health'])\n",
    "X = X[~np.isnan(y),:]\n",
    "y = y[~np.isnan(y)]\n",
    "y = y[~np.any(np.isnan(X), axis=1)]\n",
    "X = X[~np.any(np.isnan(X), axis=1)]\n",
    "\n",
    "## train linear regression model for Natural condition\n",
    "# from sklearn.linear_model import LinearRegression\n",
    "LR = LinearRegression()\n",
    "LR.fit(X,y)\n",
    "print_reg_stats(LR,'Health','ChoiceTask_Resp',['Reason1_simil_taste','Reason1_simil_health'])"
   ]
  },
  {
   "cell_type": "code",
   "execution_count": 81,
   "id": "extensive-brave",
   "metadata": {},
   "outputs": [
    {
     "name": "stdout",
     "output_type": "stream",
     "text": [
      "Valence_1XReason1_simil_taste correlation with ChoiceTask_Resp in Natural : 0.6, p= 0.0\n",
      "Valence_1XReason1_simil_health correlation with ChoiceTask_Resp in Natural : 0.32, p= 0.0\n"
     ]
    }
   ],
   "source": [
    "## contribution of similarityXvalence to choice\n",
    "predictors = ['Valence_1XReason1_simil_taste','Valence_1XReason1_simil_health']\n",
    "[X,y] = get_goup_linear_reg_input(dfInUse,'Natural','ChoiceTask_Resp',predictors)\n",
    "X = X[~np.isnan(y),:]\n",
    "y = y[~np.isnan(y)]\n",
    "y = y[~np.any(np.isnan(X), axis=1)]\n",
    "X = X[~np.any(np.isnan(X), axis=1)]\n",
    "\n",
    "## train linear regression model for Natural condition\n",
    "# from sklearn.linear_model import LinearRegression\n",
    "LR = LinearRegression()\n",
    "LR.fit(X,y)\n",
    "print_reg_stats(LR,'Natural','ChoiceTask_Resp',predictors)"
   ]
  },
  {
   "cell_type": "code",
   "execution_count": 82,
   "id": "detected-success",
   "metadata": {},
   "outputs": [
    {
     "name": "stdout",
     "output_type": "stream",
     "text": [
      "Valence_1XReason1_simil_taste correlation with ChoiceTask_Resp in Health : 0.64, p= 0.0\n",
      "Valence_1XReason1_simil_health correlation with ChoiceTask_Resp in Health : -0.0, p= 0.937\n"
     ]
    }
   ],
   "source": [
    "predictors = ['Valence_1XReason1_simil_taste','Valence_1XReason1_simil_health']\n",
    "[X,y] = get_goup_linear_reg_input(dfInUse,'Health','ChoiceTask_Resp',predictors)\n",
    "X = X[~np.isnan(y),:]\n",
    "y = y[~np.isnan(y)]\n",
    "y = y[~np.any(np.isnan(X), axis=1)]\n",
    "X = X[~np.any(np.isnan(X), axis=1)]\n",
    "\n",
    "## train linear regression model for Natural condition\n",
    "# from sklearn.linear_model import LinearRegression\n",
    "LR = LinearRegression()\n",
    "LR.fit(X,y)\n",
    "print_reg_stats(LR,'Health','ChoiceTask_Resp',predictors)"
   ]
  },
  {
   "cell_type": "code",
   "execution_count": 84,
   "id": "robust-stick",
   "metadata": {},
   "outputs": [
    {
     "name": "stdout",
     "output_type": "stream",
     "text": [
      "Reason1_simil_taste correlation with choicePre in Natural : 0.86, p= 0.0\n",
      "Reason1_simil_health correlation with choicePre in Natural : 0.11, p= 0.544\n"
     ]
    }
   ],
   "source": [
    "## contribution of similarity to pre-liking\n",
    "predictors = ['Reason1_simil_taste','Reason1_simil_health']\n",
    "[X,y] = get_goup_linear_reg_input(dfInUse,'Natural','choicePre',predictors)\n",
    "X = X[~np.isnan(y),:]\n",
    "y = y[~np.isnan(y)]\n",
    "y = y[~np.any(np.isnan(X), axis=1)]\n",
    "X = X[~np.any(np.isnan(X), axis=1)]\n",
    "\n",
    "## train linear regression model for Natural condition\n",
    "# from sklearn.linear_model import LinearRegression\n",
    "LR = LinearRegression()\n",
    "LR.fit(X,y)\n",
    "print_reg_stats(LR,'Natural','choicePre',predictors)"
   ]
  },
  {
   "cell_type": "code",
   "execution_count": 85,
   "id": "composed-motel",
   "metadata": {},
   "outputs": [
    {
     "name": "stdout",
     "output_type": "stream",
     "text": [
      "Reason1_simil_taste correlation with choicePre in Health : 1.35, p= 0.0\n",
      "Reason1_simil_health correlation with choicePre in Health : 0.23, p= 0.127\n"
     ]
    }
   ],
   "source": [
    "[X,y] = get_goup_linear_reg_input(dfInUse,'Health','choicePre',predictors)\n",
    "X = X[~np.isnan(y),:]\n",
    "y = y[~np.isnan(y)]\n",
    "y = y[~np.any(np.isnan(X), axis=1)]\n",
    "X = X[~np.any(np.isnan(X), axis=1)]\n",
    "\n",
    "## train linear regression model for Natural condition\n",
    "# from sklearn.linear_model import LinearRegression\n",
    "LR = LinearRegression()\n",
    "LR.fit(X,y)\n",
    "print_reg_stats(LR,'Health','choicePre',predictors)"
   ]
  },
  {
   "cell_type": "code",
   "execution_count": 86,
   "id": "chubby-environment",
   "metadata": {},
   "outputs": [
    {
     "name": "stdout",
     "output_type": "stream",
     "text": [
      "Valence_1XReason1_simil_taste correlation with choicePre in Natural : 1.15, p= 0.0\n",
      "Valence_1XReason1_simil_health correlation with choicePre in Natural : 0.28, p= 0.012\n"
     ]
    }
   ],
   "source": [
    "## contribution of similarityXvalence to pre-liking\n",
    "predictors = ['Valence_1XReason1_simil_taste','Valence_1XReason1_simil_health']\n",
    "[X,y] = get_goup_linear_reg_input(dfInUse,'Natural','choicePre',predictors)\n",
    "X = X[~np.isnan(y),:]\n",
    "y = y[~np.isnan(y)]\n",
    "y = y[~np.any(np.isnan(X), axis=1)]\n",
    "X = X[~np.any(np.isnan(X), axis=1)]\n",
    "\n",
    "## train linear regression model for Natural condition\n",
    "# from sklearn.linear_model import LinearRegression\n",
    "LR = LinearRegression()\n",
    "LR.fit(X,y)\n",
    "print_reg_stats(LR,'Natural','choicePre',predictors)"
   ]
  },
  {
   "cell_type": "code",
   "execution_count": 87,
   "id": "about-variable",
   "metadata": {},
   "outputs": [
    {
     "name": "stdout",
     "output_type": "stream",
     "text": [
      "Valence_1XReason1_simil_taste correlation with choicePre in Health : 1.46, p= 0.0\n",
      "Valence_1XReason1_simil_health correlation with choicePre in Health : -1.0, p= 0.0\n"
     ]
    }
   ],
   "source": [
    "predictors = ['Valence_1XReason1_simil_taste','Valence_1XReason1_simil_health']\n",
    "[X,y] = get_goup_linear_reg_input(dfInUse,'Health','choicePre',predictors)\n",
    "X = X[~np.isnan(y),:]\n",
    "y = y[~np.isnan(y)]\n",
    "y = y[~np.any(np.isnan(X), axis=1)]\n",
    "X = X[~np.any(np.isnan(X), axis=1)]\n",
    "\n",
    "## train linear regression model for Natural condition\n",
    "# from sklearn.linear_model import LinearRegression\n",
    "LR = LinearRegression()\n",
    "LR.fit(X,y)\n",
    "print_reg_stats(LR,'Health','choicePre',predictors)"
   ]
  },
  {
   "cell_type": "code",
   "execution_count": 88,
   "id": "worst-christmas",
   "metadata": {},
   "outputs": [
    {
     "name": "stdout",
     "output_type": "stream",
     "text": [
      "Reason1_simil_taste correlation with choicePost in Natural : 1.02, p= 0.0\n",
      "Reason1_simil_health correlation with choicePost in Natural : 0.52, p= 0.007\n"
     ]
    }
   ],
   "source": [
    "## contribution of similarity to post-liking\n",
    "predictors = ['Reason1_simil_taste','Reason1_simil_health']\n",
    "[X,y] = get_goup_linear_reg_input(dfInUse,'Natural','choicePost',predictors)\n",
    "X = X[~np.isnan(y),:]\n",
    "y = y[~np.isnan(y)]\n",
    "y = y[~np.any(np.isnan(X), axis=1)]\n",
    "X = X[~np.any(np.isnan(X), axis=1)]\n",
    "\n",
    "## train linear regression model for Natural condition\n",
    "# from sklearn.linear_model import LinearRegression\n",
    "LR = LinearRegression()\n",
    "LR.fit(X,y)\n",
    "print_reg_stats(LR,'Natural','choicePost',predictors)"
   ]
  },
  {
   "cell_type": "code",
   "execution_count": 89,
   "id": "foreign-glasgow",
   "metadata": {},
   "outputs": [
    {
     "name": "stdout",
     "output_type": "stream",
     "text": [
      "Reason1_simil_taste correlation with choicePost in Health : 1.43, p= 0.0\n",
      "Reason1_simil_health correlation with choicePost in Health : 0.6, p= 0.0\n"
     ]
    }
   ],
   "source": [
    "[X,y] = get_goup_linear_reg_input(dfInUse,'Health','choicePost',predictors)\n",
    "X = X[~np.isnan(y),:]\n",
    "y = y[~np.isnan(y)]\n",
    "y = y[~np.any(np.isnan(X), axis=1)]\n",
    "X = X[~np.any(np.isnan(X), axis=1)]\n",
    "\n",
    "## train linear regression model for Natural condition\n",
    "# from sklearn.linear_model import LinearRegression\n",
    "LR = LinearRegression()\n",
    "LR.fit(X,y)\n",
    "print_reg_stats(LR,'Health','choicePost',predictors)"
   ]
  },
  {
   "cell_type": "code",
   "execution_count": 90,
   "id": "desperate-consultation",
   "metadata": {},
   "outputs": [
    {
     "name": "stdout",
     "output_type": "stream",
     "text": [
      "Valence_1XReason1_simil_taste correlation with choicePost in Natural : 1.23, p= 0.0\n",
      "Valence_1XReason1_simil_health correlation with choicePost in Natural : 0.61, p= 0.0\n"
     ]
    }
   ],
   "source": [
    "## contribution of similarityXvalence to post-liking\n",
    "predictors = ['Valence_1XReason1_simil_taste','Valence_1XReason1_simil_health']\n",
    "[X,y] = get_goup_linear_reg_input(dfInUse,'Natural','choicePost',predictors)\n",
    "X = X[~np.isnan(y),:]\n",
    "y = y[~np.isnan(y)]\n",
    "y = y[~np.any(np.isnan(X), axis=1)]\n",
    "X = X[~np.any(np.isnan(X), axis=1)]\n",
    "\n",
    "## train linear regression model for Natural condition\n",
    "# from sklearn.linear_model import LinearRegression\n",
    "LR = LinearRegression()\n",
    "LR.fit(X,y)\n",
    "print_reg_stats(LR,'Natural','choicePost',predictors)"
   ]
  },
  {
   "cell_type": "code",
   "execution_count": 91,
   "id": "dedicated-situation",
   "metadata": {},
   "outputs": [
    {
     "name": "stdout",
     "output_type": "stream",
     "text": [
      "Valence_1XReason1_simil_taste correlation with choicePost in Health : 1.43, p= 0.0\n",
      "Valence_1XReason1_simil_health correlation with choicePost in Health : -0.36, p= 0.001\n"
     ]
    }
   ],
   "source": [
    "## contribution of similarityXvalence to post-liking\n",
    "predictors = ['Valence_1XReason1_simil_taste','Valence_1XReason1_simil_health']\n",
    "[X,y] = get_goup_linear_reg_input(dfInUse,'Health','choicePost',predictors)\n",
    "X = X[~np.isnan(y),:]\n",
    "y = y[~np.isnan(y)]\n",
    "y = y[~np.any(np.isnan(X), axis=1)]\n",
    "X = X[~np.any(np.isnan(X), axis=1)]\n",
    "\n",
    "## train linear regression model for Natural condition\n",
    "# from sklearn.linear_model import LinearRegression\n",
    "LR = LinearRegression()\n",
    "LR.fit(X,y)\n",
    "print_reg_stats(LR,'Health','choicePost',predictors)"
   ]
  },
  {
   "cell_type": "code",
   "execution_count": 92,
   "id": "renewable-version",
   "metadata": {},
   "outputs": [
    {
     "name": "stdout",
     "output_type": "stream",
     "text": [
      "Reason1_simil_tasteXValence_1 correlation with post-pre liking in Natural : 0.08, p= 0.216\n",
      "Reason1_simil_healthXValence_1 correlation with post-pre liking in Natural : 0.33, p= 0.003\n"
     ]
    }
   ],
   "source": [
    "predictors = ['Valence_1XReason1_simil_taste','Valence_1XReason1_simil_health']\n",
    "[X,ypre] = get_goup_linear_reg_input(dfInUse,'Natural','choicePre',predictors)\n",
    "[_,ypost] = get_goup_linear_reg_input(dfInUse,'Natural','choicePost',predictors)\n",
    "y = ypost-ypre\n",
    "X = X[~np.isnan(y),:]\n",
    "y = y[~np.isnan(y)]\n",
    "y = y[~np.any(np.isnan(X), axis=1)]\n",
    "X = X[~np.any(np.isnan(X), axis=1)]\n",
    "\n",
    "## train linear regression model for Natural condition\n",
    "# from sklearn.linear_model import LinearRegression\n",
    "LR = LinearRegression()\n",
    "LR.fit(X,y)\n",
    "print_reg_stats(LR,'Natural','post-pre liking',['Reason1_simil_tasteXValence_1','Reason1_simil_healthXValence_1'])"
   ]
  },
  {
   "cell_type": "code",
   "execution_count": 95,
   "id": "threatened-diesel",
   "metadata": {},
   "outputs": [
    {
     "name": "stdout",
     "output_type": "stream",
     "text": [
      "Valence_1XReason1_simil_taste correlation with post-pre liking in Health : -0.03, p= 0.659\n",
      "Valence_1XReason1_simil_health correlation with post-pre liking in Health : 0.64, p= 0.0\n"
     ]
    }
   ],
   "source": [
    "[X,ypre] = get_goup_linear_reg_input(dfInUse,'Health','choicePre',predictors)\n",
    "[_,ypost] = get_goup_linear_reg_input(dfInUse,'Health','choicePost',predictors)\n",
    "y = ypost-ypre\n",
    "X = X[~np.isnan(y),:]\n",
    "y = y[~np.isnan(y)]\n",
    "y = y[~np.any(np.isnan(X), axis=1)]\n",
    "X = X[~np.any(np.isnan(X), axis=1)]\n",
    "\n",
    "## train linear regression model for Natural condition\n",
    "# from sklearn.linear_model import LinearRegression\n",
    "LR = LinearRegression()\n",
    "LR.fit(X,y)\n",
    "print_reg_stats(LR,'Health','post-pre liking',predictors)"
   ]
  },
  {
   "cell_type": "code",
   "execution_count": 472,
   "id": "acknowledged-mechanism",
   "metadata": {},
   "outputs": [
    {
     "data": {
      "text/plain": [
       "array([-3., -2., -1.,  0.,  1.,  2.,  3.])"
      ]
     },
     "execution_count": 472,
     "metadata": {},
     "output_type": "execute_result"
    }
   ],
   "source": [
    "np.unique(y)"
   ]
  },
  {
   "cell_type": "code",
   "execution_count": 465,
   "id": "velvet-official",
   "metadata": {},
   "outputs": [
    {
     "data": {
      "text/plain": [
       "range(0, 2660)"
      ]
     },
     "execution_count": 465,
     "metadata": {},
     "output_type": "execute_result"
    }
   ],
   "source": [
    "range(Xpre.shape[0])"
   ]
  },
  {
   "cell_type": "code",
   "execution_count": 249,
   "id": "general-cornwall",
   "metadata": {},
   "outputs": [
    {
     "data": {
      "text/plain": [
       "0.0783086675705712"
      ]
     },
     "execution_count": 249,
     "metadata": {},
     "output_type": "execute_result"
    }
   ],
   "source": [
    "dfInUse['2_Reason1_simil_taste'].min()"
   ]
  },
  {
   "cell_type": "markdown",
   "id": "biblical-closure",
   "metadata": {},
   "source": [
    "### similarity and attribute rating included in one regression model"
   ]
  },
  {
   "cell_type": "code",
   "execution_count": 101,
   "id": "atomic-vector",
   "metadata": {},
   "outputs": [
    {
     "name": "stdout",
     "output_type": "stream",
     "text": [
      "[ 0.21237613  0.12325969  0.09386027 -0.00027654]\n",
      "[0.00000000e+00 0.00000000e+00 1.39827261e-10 9.64101512e-01]\n"
     ]
    }
   ],
   "source": [
    "## create model input for Natural condition\n",
    "## initialize and get the first food data\n",
    "y = np.asarray(dfInUse[dfInUse['Condition']=='Natural']['1_ChoiceTask_Resp'])\n",
    "X = np.full((y.shape[0],4),np.nan)\n",
    "X[:,0] = (np.asarray(dfInUse[dfInUse['Condition']=='Natural']['1_Reason1_simil_taste'])*\n",
    "         np.asarray(dfInUse[dfInUse['Condition']=='Natural']['1_Valence_1']))\n",
    "X[:,1] = np.asarray(dfInUse[dfInUse['Condition']=='Natural']['1_taste'])\n",
    "X[:,2] = (np.asarray(dfInUse[dfInUse['Condition']=='Natural']['1_Reason1_simil_health'])*\n",
    "         np.asarray(dfInUse[dfInUse['Condition']=='Natural']['1_Valence_1']))\n",
    "X[:,3] = np.asarray(dfInUse[dfInUse['Condition']=='Natural']['1_health'])\n",
    "\n",
    "# apped choice and first reason for foods 2-20\n",
    "for f in range(2,21):\n",
    "    temp      = np.full((dfInUse[dfInUse['Condition']=='Natural'].shape[0],4),np.nan)\n",
    "    temp[:,0] = (np.asarray(dfInUse[dfInUse['Condition']=='Natural'][str(f)+'_Reason1_simil_taste'])*\n",
    "                np.asarray(dfInUse[dfInUse['Condition']=='Natural'][str(f)+'_Valence_1']))\n",
    "    temp[:,1] = np.asarray(dfInUse[dfInUse['Condition']=='Natural'][str(f)+'_taste'])\n",
    "    temp[:,2] = (np.asarray(dfInUse[dfInUse['Condition']=='Natural'][str(f)+'_Reason1_simil_health'])*\n",
    "                np.asarray(dfInUse[dfInUse['Condition']=='Natural'][str(f)+'_Valence_1']))\n",
    "    temp[:,3] = np.asarray(dfInUse[dfInUse['Condition']=='Natural'][str(f)+'_health'])\n",
    "\n",
    "    y      = np.append(y,dfInUse[dfInUse['Condition']=='Natural'][str(f)+'_ChoiceTask_Resp'])\n",
    "    X      = np.append(X,temp,axis=0)\n",
    "# # for f in range(2,21): # foods\n",
    "# #     y = np.append(y,dfInUse[dfInUse['Condition']=='Natural'][str(f)+'_ChoiceTask_Resp'])\n",
    "\n",
    "\n",
    "X = X[~np.isnan(y),:]\n",
    "y = y[~np.isnan(y)]\n",
    "y = y[~np.any(np.isnan(X), axis=1)]\n",
    "X = X[~np.any(np.isnan(X), axis=1)]\n",
    "\n",
    "## train linear regression model for Natural condition\n",
    "# from sklearn.linear_model import LinearRegression\n",
    "from sklearn.preprocessing import StandardScaler\n",
    "\n",
    "scaler = StandardScaler()\n",
    "scaler.fit(X)\n",
    "X_scaled = scaler.fit_transform(X)\n",
    "# X_scaled\n",
    "\n",
    "LR = LinearRegression()\n",
    "LR.fit(X_scaled,y)\n",
    "print(LR.coef_)\n",
    "print(LR.p)"
   ]
  },
  {
   "cell_type": "code",
   "execution_count": 115,
   "id": "animal-prisoner",
   "metadata": {},
   "outputs": [
    {
     "name": "stdout",
     "output_type": "stream",
     "text": [
      "5.1862209671195565 2.3286828487739724e-07\n"
     ]
    }
   ],
   "source": [
    "from scipy import stats\n",
    "[t,p] = stats.ttest_rel(X[:,0],X[:,2])\n",
    "print(t,p)"
   ]
  },
  {
   "cell_type": "code",
   "execution_count": 102,
   "id": "selected-count",
   "metadata": {},
   "outputs": [
    {
     "name": "stdout",
     "output_type": "stream",
     "text": [
      "[0.20358593 0.15899889 0.01660447 0.06471365]\n",
      "[0.00000000e+00 0.00000000e+00 3.94813377e-01 1.10389697e-10]\n"
     ]
    }
   ],
   "source": [
    "## create model input for Health condition\n",
    "## create model input for Natural condition\n",
    "## initialize and get the first food data\n",
    "y = np.asarray(dfInUse[dfInUse['Condition']=='Health']['1_ChoiceTask_Resp'])\n",
    "X = np.full((y.shape[0],4),np.nan)\n",
    "X[:,0] = (np.asarray(dfInUse[dfInUse['Condition']=='Health']['1_Reason1_simil_taste'])*\n",
    "         np.asarray(dfInUse[dfInUse['Condition']=='Health']['1_Valence_1']))\n",
    "X[:,1] = np.asarray(dfInUse[dfInUse['Condition']=='Health']['1_taste'])\n",
    "X[:,2] = (np.asarray(dfInUse[dfInUse['Condition']=='Health']['1_Reason1_simil_health'])*\n",
    "         np.asarray(dfInUse[dfInUse['Condition']=='Health']['1_Valence_1']))\n",
    "X[:,3] = np.asarray(dfInUse[dfInUse['Condition']=='Health']['1_health'])\n",
    "\n",
    "# apped choice and first reason for foods 2-20\n",
    "for f in range(2,21):\n",
    "    temp      = np.full((dfInUse[dfInUse['Condition']=='Health'].shape[0],4),np.nan)\n",
    "    temp[:,0] = (np.asarray(dfInUse[dfInUse['Condition']=='Health'][str(f)+'_Reason1_simil_taste'])*\n",
    "                np.asarray(dfInUse[dfInUse['Condition']=='Health'][str(f)+'_Valence_1']))\n",
    "    temp[:,1] = np.asarray(dfInUse[dfInUse['Condition']=='Health'][str(f)+'_taste'])\n",
    "    temp[:,2] = (np.asarray(dfInUse[dfInUse['Condition']=='Health'][str(f)+'_Reason1_simil_health'])*\n",
    "                np.asarray(dfInUse[dfInUse['Condition']=='Health'][str(f)+'_Valence_1']))\n",
    "    temp[:,3] = np.asarray(dfInUse[dfInUse['Condition']=='Health'][str(f)+'_health'])\n",
    "\n",
    "    y      = np.append(y,dfInUse[dfInUse['Condition']=='Health'][str(f)+'_ChoiceTask_Resp'])\n",
    "    X      = np.append(X,temp,axis=0)\n",
    "# # for f in range(2,21): # foods\n",
    "# #     y = np.append(y,dfInUse[dfInUse['Condition']=='Natural'][str(f)+'_ChoiceTask_Resp'])\n",
    "\n",
    "\n",
    "X = X[~np.isnan(y),:]\n",
    "y = y[~np.isnan(y)]\n",
    "y = y[~np.any(np.isnan(X), axis=1)]\n",
    "X = X[~np.any(np.isnan(X), axis=1)]\n",
    "\n",
    "## train linear regression model for Natural condition\n",
    "# from sklearn.linear_model import LinearRegression\n",
    "from sklearn.preprocessing import StandardScaler\n",
    "\n",
    "scaler = StandardScaler()\n",
    "scaler.fit(X)\n",
    "X_scaled = scaler.fit_transform(X)\n",
    "# X_scaled\n",
    "\n",
    "LR = LinearRegression()\n",
    "LR.fit(X_scaled,y)\n",
    "print(LR.coef_)\n",
    "print(LR.p)"
   ]
  },
  {
   "cell_type": "code",
   "execution_count": 85,
   "id": "simple-commitment",
   "metadata": {},
   "outputs": [
    {
     "data": {
      "text/plain": [
       "256"
      ]
     },
     "execution_count": 85,
     "metadata": {},
     "output_type": "execute_result"
    }
   ],
   "source": [
    "# find how many reasons people gave \n",
    "dfInUse['1_Reason3'].isna().sum()"
   ]
  },
  {
   "cell_type": "code",
   "execution_count": 106,
   "id": "sporting-store",
   "metadata": {},
   "outputs": [
    {
     "data": {
      "text/plain": [
       "array([0.44383453, 0.70236502, 0.45663502, 0.61535029])"
      ]
     },
     "execution_count": 106,
     "metadata": {},
     "output_type": "execute_result"
    }
   ],
   "source": [
    "X_scaled.mean(axis = 0)"
   ]
  }
 ],
 "metadata": {
  "kernelspec": {
   "display_name": "Python 3",
   "language": "python",
   "name": "python3"
  },
  "language_info": {
   "codemirror_mode": {
    "name": "ipython",
    "version": 3
   },
   "file_extension": ".py",
   "mimetype": "text/x-python",
   "name": "python",
   "nbconvert_exporter": "python",
   "pygments_lexer": "ipython3",
   "version": "3.9.1"
  }
 },
 "nbformat": 4,
 "nbformat_minor": 5
}
